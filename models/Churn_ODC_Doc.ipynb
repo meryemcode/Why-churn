{
  "cells": [
    {
      "cell_type": "code",
      "source": [
        "# Project Name: Why Churn ?"
      ],
      "metadata": {
        "id": "6wddPR2aFMTp"
      },
      "execution_count": 252,
      "outputs": []
    },
    {
      "cell_type": "code",
      "execution_count": 253,
      "metadata": {
        "id": "N1_M_m-5E34J"
      },
      "outputs": [],
      "source": [
        "# Data Link : https://raw.githubusercontent.com/donnemartin/data-science-ipython-notebooks/master/data/churn.csv \n",
        "# Data Link : https://github.com/donnemartin/data-science-ipython-notebooks/blob/master/data/churn.csv"
      ]
    },
    {
      "cell_type": "code",
      "execution_count": 254,
      "metadata": {
        "id": "UBbUP4JlE34O"
      },
      "outputs": [],
      "source": [
        "#Import required libraries\n",
        "import numpy as np \n",
        "import pandas as pd "
      ]
    },
    {
      "cell_type": "code",
      "execution_count": 255,
      "metadata": {
        "id": "Hi8vjAdyE34P"
      },
      "outputs": [],
      "source": [
        "#Import CSV file\n",
        "df = pd.read_csv('https://raw.githubusercontent.com/donnemartin/data-science-ipython-notebooks/master/data/churn.csv')"
      ]
    },
    {
      "cell_type": "code",
      "source": [
        "#Show Data labels\n",
        "df.columns"
      ],
      "metadata": {
        "colab": {
          "base_uri": "https://localhost:8080/"
        },
        "id": "IK62A7XwJiXz",
        "outputId": "6ab2bbaf-104b-46a1-8f7a-bd7bfaede467"
      },
      "execution_count": 256,
      "outputs": [
        {
          "output_type": "execute_result",
          "data": {
            "text/plain": [
              "Index(['State', 'Account Length', 'Area Code', 'Phone', 'Int'l Plan',\n",
              "       'VMail Plan', 'VMail Message', 'Day Mins', 'Day Calls', 'Day Charge',\n",
              "       'Eve Mins', 'Eve Calls', 'Eve Charge', 'Night Mins', 'Night Calls',\n",
              "       'Night Charge', 'Intl Mins', 'Intl Calls', 'Intl Charge',\n",
              "       'CustServ Calls', 'Churn?'],\n",
              "      dtype='object')"
            ]
          },
          "metadata": {},
          "execution_count": 256
        }
      ]
    },
    {
      "cell_type": "code",
      "execution_count": 257,
      "metadata": {
        "id": "4ezY7RUQE34P"
      },
      "outputs": [],
      "source": [
        "#Change Int'l Plan to Intl Plan and Churn? to Churn .\n",
        "df.columns = ['State', 'Account Length', 'Area Code', 'Phone', 'Intl Plan',\n",
        "       'VMail Plan', 'VMail Message', 'Day Mins', 'Day Calls', 'Day Charge',\n",
        "       'Eve Mins', 'Eve Calls', 'Eve Charge', 'Night Mins', 'Night Calls',\n",
        "       'Night Charge', 'Intl Mins', 'Intl Calls', 'Intl Charge',\n",
        "       'CustServ Calls', 'Churn']"
      ]
    },
    {
      "cell_type": "code",
      "source": [
        "#Show New Data labels\n",
        "df.columns"
      ],
      "metadata": {
        "colab": {
          "base_uri": "https://localhost:8080/"
        },
        "id": "ZJwnzyBgKLzq",
        "outputId": "e56e926e-3a33-467e-ade6-8486f94869a2"
      },
      "execution_count": 258,
      "outputs": [
        {
          "output_type": "execute_result",
          "data": {
            "text/plain": [
              "Index(['State', 'Account Length', 'Area Code', 'Phone', 'Intl Plan',\n",
              "       'VMail Plan', 'VMail Message', 'Day Mins', 'Day Calls', 'Day Charge',\n",
              "       'Eve Mins', 'Eve Calls', 'Eve Charge', 'Night Mins', 'Night Calls',\n",
              "       'Night Charge', 'Intl Mins', 'Intl Calls', 'Intl Charge',\n",
              "       'CustServ Calls', 'Churn'],\n",
              "      dtype='object')"
            ]
          },
          "metadata": {},
          "execution_count": 258
        }
      ]
    },
    {
      "cell_type": "code",
      "execution_count": 259,
      "metadata": {
        "colab": {
          "base_uri": "https://localhost:8080/"
        },
        "id": "7DXppblsE34Q",
        "outputId": "a7cdb55b-6961-47f7-b994-de7e9a0df173"
      },
      "outputs": [
        {
          "output_type": "stream",
          "name": "stdout",
          "text": [
            "<class 'pandas.core.frame.DataFrame'>\n",
            "RangeIndex: 3333 entries, 0 to 3332\n",
            "Data columns (total 21 columns):\n",
            " #   Column          Non-Null Count  Dtype  \n",
            "---  ------          --------------  -----  \n",
            " 0   State           3333 non-null   object \n",
            " 1   Account Length  3333 non-null   int64  \n",
            " 2   Area Code       3333 non-null   int64  \n",
            " 3   Phone           3333 non-null   object \n",
            " 4   Intl Plan       3333 non-null   object \n",
            " 5   VMail Plan      3333 non-null   object \n",
            " 6   VMail Message   3333 non-null   int64  \n",
            " 7   Day Mins        3333 non-null   float64\n",
            " 8   Day Calls       3333 non-null   int64  \n",
            " 9   Day Charge      3333 non-null   float64\n",
            " 10  Eve Mins        3333 non-null   float64\n",
            " 11  Eve Calls       3333 non-null   int64  \n",
            " 12  Eve Charge      3333 non-null   float64\n",
            " 13  Night Mins      3333 non-null   float64\n",
            " 14  Night Calls     3333 non-null   int64  \n",
            " 15  Night Charge    3333 non-null   float64\n",
            " 16  Intl Mins       3333 non-null   float64\n",
            " 17  Intl Calls      3333 non-null   int64  \n",
            " 18  Intl Charge     3333 non-null   float64\n",
            " 19  CustServ Calls  3333 non-null   int64  \n",
            " 20  Churn           3333 non-null   object \n",
            "dtypes: float64(8), int64(8), object(5)\n",
            "memory usage: 546.9+ KB\n"
          ]
        }
      ],
      "source": [
        "# Show Data Info\n",
        "df.info()"
      ]
    },
    {
      "cell_type": "code",
      "execution_count": 260,
      "metadata": {
        "colab": {
          "base_uri": "https://localhost:8080/"
        },
        "id": "b1tWBa6TE34R",
        "outputId": "2be6759c-d735-4148-92c8-8060eb4a134d"
      },
      "outputs": [
        {
          "output_type": "execute_result",
          "data": {
            "text/plain": [
              "array(['KS', 'OH', 'NJ', 'OK', 'AL', 'MA', 'MO', 'LA', 'WV', 'IN', 'RI',\n",
              "       'IA', 'MT', 'NY', 'ID', 'VT', 'VA', 'TX', 'FL', 'CO', 'AZ', 'SC',\n",
              "       'NE', 'WY', 'HI', 'IL', 'NH', 'GA', 'AK', 'MD', 'AR', 'WI', 'OR',\n",
              "       'MI', 'DE', 'UT', 'CA', 'MN', 'SD', 'NC', 'WA', 'NM', 'NV', 'DC',\n",
              "       'KY', 'ME', 'MS', 'TN', 'PA', 'CT', 'ND'], dtype=object)"
            ]
          },
          "metadata": {},
          "execution_count": 260
        }
      ],
      "source": [
        "#show unique State Value\n",
        "df.State.unique()"
      ]
    },
    {
      "cell_type": "code",
      "execution_count": 261,
      "metadata": {
        "colab": {
          "base_uri": "https://localhost:8080/"
        },
        "id": "yiO8PaF-E34S",
        "outputId": "66a0cbc0-9d07-42a3-d920-09e70cdb4837"
      },
      "outputs": [
        {
          "output_type": "execute_result",
          "data": {
            "text/plain": [
              "array([128, 107, 137,  84,  75, 118, 121, 147, 117, 141,  65,  74, 168,\n",
              "        95,  62, 161,  85,  93,  76,  73,  77, 130, 111, 132, 174,  57,\n",
              "        54,  20,  49, 142, 172,  12,  72,  36,  78, 136, 149,  98, 135,\n",
              "        34, 160,  64,  59, 119,  97,  52,  60,  10,  96,  87,  81,  68,\n",
              "       125, 116,  38,  40,  43, 113, 126, 150, 138, 162,  90,  50,  82,\n",
              "       144,  46,  70,  55, 106,  94, 155,  80, 104,  99, 120, 108, 122,\n",
              "       157, 103,  63, 112,  41, 193,  61,  92, 131, 163,  91, 127, 110,\n",
              "       140,  83, 145,  56, 151, 139,   6, 115, 146, 185, 148,  32,  25,\n",
              "       179,  67,  19, 170, 164,  51, 208,  53, 105,  66,  86,  35,  88,\n",
              "       123,  45, 100, 215,  22,  33, 114,  24, 101, 143,  48,  71, 167,\n",
              "        89, 199, 166, 158, 196, 209,  16,  39, 173, 129,  44,  79,  31,\n",
              "       124,  37, 159, 194, 154,  21, 133, 224,  58,  11, 109, 102, 165,\n",
              "        18,  30, 176,  47, 190, 152,  26,  69, 186, 171,  28, 153, 169,\n",
              "        13,  27,   3,  42, 189, 156, 134, 243,  23,   1, 205, 200,   5,\n",
              "         9, 178, 181, 182, 217, 177, 210,  29, 180,   2,  17,   7, 212,\n",
              "       232, 192, 195, 197, 225, 184, 191, 201,  15, 183, 202,   8, 175,\n",
              "         4, 188, 204, 221])"
            ]
          },
          "metadata": {},
          "execution_count": 261
        }
      ],
      "source": [
        "#show Unique Account Length Value\n",
        "df['Account Length'].unique()"
      ]
    },
    {
      "cell_type": "code",
      "execution_count": 262,
      "metadata": {
        "colab": {
          "base_uri": "https://localhost:8080/"
        },
        "id": "XUuPqHKmE34T",
        "outputId": "4f2b8c51-fec4-4b03-ec28-ebf7524605f5"
      },
      "outputs": [
        {
          "output_type": "execute_result",
          "data": {
            "text/plain": [
              "array([415, 408, 510])"
            ]
          },
          "metadata": {},
          "execution_count": 262
        }
      ],
      "source": [
        "#show Unique Area Code Value\n",
        "df['Area Code'].unique()"
      ]
    },
    {
      "cell_type": "code",
      "execution_count": 263,
      "metadata": {
        "colab": {
          "base_uri": "https://localhost:8080/"
        },
        "id": "Jf60_GjiE34T",
        "outputId": "029ad5c4-e363-4595-d306-a2d1eb1711e6"
      },
      "outputs": [
        {
          "output_type": "execute_result",
          "data": {
            "text/plain": [
              "array(['382-4657', '371-7191', '358-1921', ..., '328-8230', '364-6381',\n",
              "       '400-4344'], dtype=object)"
            ]
          },
          "metadata": {},
          "execution_count": 263
        }
      ],
      "source": [
        "#show Unique Phone Value\n",
        "df['Phone'].unique()"
      ]
    },
    {
      "cell_type": "code",
      "execution_count": 264,
      "metadata": {
        "colab": {
          "base_uri": "https://localhost:8080/"
        },
        "id": "3J_qLR28E34U",
        "outputId": "1d53e383-2b4d-4e6a-9396-080e36fee675"
      },
      "outputs": [
        {
          "output_type": "execute_result",
          "data": {
            "text/plain": [
              "str"
            ]
          },
          "metadata": {},
          "execution_count": 264
        }
      ],
      "source": [
        "#Show type of Intl Plan \n",
        "type(df[\"Intl Plan\"][0])"
      ]
    },
    {
      "cell_type": "code",
      "execution_count": 265,
      "metadata": {
        "colab": {
          "base_uri": "https://localhost:8080/"
        },
        "id": "6ThEmrUZE34V",
        "outputId": "4c31c38b-1f3c-4b9b-9060-ec238ae985cc"
      },
      "outputs": [
        {
          "output_type": "stream",
          "name": "stdout",
          "text": [
            "State => ['KS' 'OH' 'NJ' 'OK' 'AL' 'MA' 'MO' 'LA' 'WV' 'IN' 'RI' 'IA' 'MT' 'NY'\n",
            " 'ID' 'VT' 'VA' 'TX' 'FL' 'CO' 'AZ' 'SC' 'NE' 'WY' 'HI' 'IL' 'NH' 'GA'\n",
            " 'AK' 'MD' 'AR' 'WI' 'OR' 'MI' 'DE' 'UT' 'CA' 'MN' 'SD' 'NC' 'WA' 'NM'\n",
            " 'NV' 'DC' 'KY' 'ME' 'MS' 'TN' 'PA' 'CT' 'ND']\n",
            "Phone => ['382-4657' '371-7191' '358-1921' ... '328-8230' '364-6381' '400-4344']\n",
            "Intl Plan => ['no' 'yes']\n",
            "VMail Plan => ['yes' 'no']\n",
            "Churn => ['False.' 'True.']\n"
          ]
        }
      ],
      "source": [
        "#Show all columns unique Value  \n",
        "for col in df.columns:\n",
        "    if type(df[col][0])==str:\n",
        "        print('{0} => {1}'.format(col, df[col].unique()))"
      ]
    },
    {
      "cell_type": "code",
      "execution_count": 266,
      "metadata": {
        "colab": {
          "base_uri": "https://localhost:8080/",
          "height": 382
        },
        "id": "POy1a9WhE34W",
        "outputId": "b1751545-be24-4607-e957-4ed5719747c3"
      },
      "outputs": [
        {
          "output_type": "execute_result",
          "data": {
            "text/html": [
              "\n",
              "  <div id=\"df-cc75d321-82a3-4b91-82cb-872c30a37272\">\n",
              "    <div class=\"colab-df-container\">\n",
              "      <div>\n",
              "<style scoped>\n",
              "    .dataframe tbody tr th:only-of-type {\n",
              "        vertical-align: middle;\n",
              "    }\n",
              "\n",
              "    .dataframe tbody tr th {\n",
              "        vertical-align: top;\n",
              "    }\n",
              "\n",
              "    .dataframe thead th {\n",
              "        text-align: right;\n",
              "    }\n",
              "</style>\n",
              "<table border=\"1\" class=\"dataframe\">\n",
              "  <thead>\n",
              "    <tr style=\"text-align: right;\">\n",
              "      <th></th>\n",
              "      <th>Account Length</th>\n",
              "      <th>Area Code</th>\n",
              "      <th>VMail Message</th>\n",
              "      <th>Day Mins</th>\n",
              "      <th>Day Calls</th>\n",
              "      <th>Day Charge</th>\n",
              "      <th>Eve Mins</th>\n",
              "      <th>Eve Calls</th>\n",
              "      <th>Eve Charge</th>\n",
              "      <th>Night Mins</th>\n",
              "      <th>Night Calls</th>\n",
              "      <th>Night Charge</th>\n",
              "      <th>Intl Mins</th>\n",
              "      <th>Intl Calls</th>\n",
              "      <th>Intl Charge</th>\n",
              "      <th>CustServ Calls</th>\n",
              "    </tr>\n",
              "  </thead>\n",
              "  <tbody>\n",
              "    <tr>\n",
              "      <th>count</th>\n",
              "      <td>3333.000000</td>\n",
              "      <td>3333.000000</td>\n",
              "      <td>3333.000000</td>\n",
              "      <td>3333.000000</td>\n",
              "      <td>3333.000000</td>\n",
              "      <td>3333.000000</td>\n",
              "      <td>3333.000000</td>\n",
              "      <td>3333.000000</td>\n",
              "      <td>3333.000000</td>\n",
              "      <td>3333.000000</td>\n",
              "      <td>3333.000000</td>\n",
              "      <td>3333.000000</td>\n",
              "      <td>3333.000000</td>\n",
              "      <td>3333.000000</td>\n",
              "      <td>3333.000000</td>\n",
              "      <td>3333.000000</td>\n",
              "    </tr>\n",
              "    <tr>\n",
              "      <th>mean</th>\n",
              "      <td>101.064806</td>\n",
              "      <td>437.182418</td>\n",
              "      <td>8.099010</td>\n",
              "      <td>179.775098</td>\n",
              "      <td>100.435644</td>\n",
              "      <td>30.562307</td>\n",
              "      <td>200.980348</td>\n",
              "      <td>100.114311</td>\n",
              "      <td>17.083540</td>\n",
              "      <td>200.872037</td>\n",
              "      <td>100.107711</td>\n",
              "      <td>9.039325</td>\n",
              "      <td>10.237294</td>\n",
              "      <td>4.479448</td>\n",
              "      <td>2.764581</td>\n",
              "      <td>1.562856</td>\n",
              "    </tr>\n",
              "    <tr>\n",
              "      <th>std</th>\n",
              "      <td>39.822106</td>\n",
              "      <td>42.371290</td>\n",
              "      <td>13.688365</td>\n",
              "      <td>54.467389</td>\n",
              "      <td>20.069084</td>\n",
              "      <td>9.259435</td>\n",
              "      <td>50.713844</td>\n",
              "      <td>19.922625</td>\n",
              "      <td>4.310668</td>\n",
              "      <td>50.573847</td>\n",
              "      <td>19.568609</td>\n",
              "      <td>2.275873</td>\n",
              "      <td>2.791840</td>\n",
              "      <td>2.461214</td>\n",
              "      <td>0.753773</td>\n",
              "      <td>1.315491</td>\n",
              "    </tr>\n",
              "    <tr>\n",
              "      <th>min</th>\n",
              "      <td>1.000000</td>\n",
              "      <td>408.000000</td>\n",
              "      <td>0.000000</td>\n",
              "      <td>0.000000</td>\n",
              "      <td>0.000000</td>\n",
              "      <td>0.000000</td>\n",
              "      <td>0.000000</td>\n",
              "      <td>0.000000</td>\n",
              "      <td>0.000000</td>\n",
              "      <td>23.200000</td>\n",
              "      <td>33.000000</td>\n",
              "      <td>1.040000</td>\n",
              "      <td>0.000000</td>\n",
              "      <td>0.000000</td>\n",
              "      <td>0.000000</td>\n",
              "      <td>0.000000</td>\n",
              "    </tr>\n",
              "    <tr>\n",
              "      <th>25%</th>\n",
              "      <td>74.000000</td>\n",
              "      <td>408.000000</td>\n",
              "      <td>0.000000</td>\n",
              "      <td>143.700000</td>\n",
              "      <td>87.000000</td>\n",
              "      <td>24.430000</td>\n",
              "      <td>166.600000</td>\n",
              "      <td>87.000000</td>\n",
              "      <td>14.160000</td>\n",
              "      <td>167.000000</td>\n",
              "      <td>87.000000</td>\n",
              "      <td>7.520000</td>\n",
              "      <td>8.500000</td>\n",
              "      <td>3.000000</td>\n",
              "      <td>2.300000</td>\n",
              "      <td>1.000000</td>\n",
              "    </tr>\n",
              "    <tr>\n",
              "      <th>50%</th>\n",
              "      <td>101.000000</td>\n",
              "      <td>415.000000</td>\n",
              "      <td>0.000000</td>\n",
              "      <td>179.400000</td>\n",
              "      <td>101.000000</td>\n",
              "      <td>30.500000</td>\n",
              "      <td>201.400000</td>\n",
              "      <td>100.000000</td>\n",
              "      <td>17.120000</td>\n",
              "      <td>201.200000</td>\n",
              "      <td>100.000000</td>\n",
              "      <td>9.050000</td>\n",
              "      <td>10.300000</td>\n",
              "      <td>4.000000</td>\n",
              "      <td>2.780000</td>\n",
              "      <td>1.000000</td>\n",
              "    </tr>\n",
              "    <tr>\n",
              "      <th>75%</th>\n",
              "      <td>127.000000</td>\n",
              "      <td>510.000000</td>\n",
              "      <td>20.000000</td>\n",
              "      <td>216.400000</td>\n",
              "      <td>114.000000</td>\n",
              "      <td>36.790000</td>\n",
              "      <td>235.300000</td>\n",
              "      <td>114.000000</td>\n",
              "      <td>20.000000</td>\n",
              "      <td>235.300000</td>\n",
              "      <td>113.000000</td>\n",
              "      <td>10.590000</td>\n",
              "      <td>12.100000</td>\n",
              "      <td>6.000000</td>\n",
              "      <td>3.270000</td>\n",
              "      <td>2.000000</td>\n",
              "    </tr>\n",
              "    <tr>\n",
              "      <th>max</th>\n",
              "      <td>243.000000</td>\n",
              "      <td>510.000000</td>\n",
              "      <td>51.000000</td>\n",
              "      <td>350.800000</td>\n",
              "      <td>165.000000</td>\n",
              "      <td>59.640000</td>\n",
              "      <td>363.700000</td>\n",
              "      <td>170.000000</td>\n",
              "      <td>30.910000</td>\n",
              "      <td>395.000000</td>\n",
              "      <td>175.000000</td>\n",
              "      <td>17.770000</td>\n",
              "      <td>20.000000</td>\n",
              "      <td>20.000000</td>\n",
              "      <td>5.400000</td>\n",
              "      <td>9.000000</td>\n",
              "    </tr>\n",
              "  </tbody>\n",
              "</table>\n",
              "</div>\n",
              "      <button class=\"colab-df-convert\" onclick=\"convertToInteractive('df-cc75d321-82a3-4b91-82cb-872c30a37272')\"\n",
              "              title=\"Convert this dataframe to an interactive table.\"\n",
              "              style=\"display:none;\">\n",
              "        \n",
              "  <svg xmlns=\"http://www.w3.org/2000/svg\" height=\"24px\"viewBox=\"0 0 24 24\"\n",
              "       width=\"24px\">\n",
              "    <path d=\"M0 0h24v24H0V0z\" fill=\"none\"/>\n",
              "    <path d=\"M18.56 5.44l.94 2.06.94-2.06 2.06-.94-2.06-.94-.94-2.06-.94 2.06-2.06.94zm-11 1L8.5 8.5l.94-2.06 2.06-.94-2.06-.94L8.5 2.5l-.94 2.06-2.06.94zm10 10l.94 2.06.94-2.06 2.06-.94-2.06-.94-.94-2.06-.94 2.06-2.06.94z\"/><path d=\"M17.41 7.96l-1.37-1.37c-.4-.4-.92-.59-1.43-.59-.52 0-1.04.2-1.43.59L10.3 9.45l-7.72 7.72c-.78.78-.78 2.05 0 2.83L4 21.41c.39.39.9.59 1.41.59.51 0 1.02-.2 1.41-.59l7.78-7.78 2.81-2.81c.8-.78.8-2.07 0-2.86zM5.41 20L4 18.59l7.72-7.72 1.47 1.35L5.41 20z\"/>\n",
              "  </svg>\n",
              "      </button>\n",
              "      \n",
              "  <style>\n",
              "    .colab-df-container {\n",
              "      display:flex;\n",
              "      flex-wrap:wrap;\n",
              "      gap: 12px;\n",
              "    }\n",
              "\n",
              "    .colab-df-convert {\n",
              "      background-color: #E8F0FE;\n",
              "      border: none;\n",
              "      border-radius: 50%;\n",
              "      cursor: pointer;\n",
              "      display: none;\n",
              "      fill: #1967D2;\n",
              "      height: 32px;\n",
              "      padding: 0 0 0 0;\n",
              "      width: 32px;\n",
              "    }\n",
              "\n",
              "    .colab-df-convert:hover {\n",
              "      background-color: #E2EBFA;\n",
              "      box-shadow: 0px 1px 2px rgba(60, 64, 67, 0.3), 0px 1px 3px 1px rgba(60, 64, 67, 0.15);\n",
              "      fill: #174EA6;\n",
              "    }\n",
              "\n",
              "    [theme=dark] .colab-df-convert {\n",
              "      background-color: #3B4455;\n",
              "      fill: #D2E3FC;\n",
              "    }\n",
              "\n",
              "    [theme=dark] .colab-df-convert:hover {\n",
              "      background-color: #434B5C;\n",
              "      box-shadow: 0px 1px 3px 1px rgba(0, 0, 0, 0.15);\n",
              "      filter: drop-shadow(0px 1px 2px rgba(0, 0, 0, 0.3));\n",
              "      fill: #FFFFFF;\n",
              "    }\n",
              "  </style>\n",
              "\n",
              "      <script>\n",
              "        const buttonEl =\n",
              "          document.querySelector('#df-cc75d321-82a3-4b91-82cb-872c30a37272 button.colab-df-convert');\n",
              "        buttonEl.style.display =\n",
              "          google.colab.kernel.accessAllowed ? 'block' : 'none';\n",
              "\n",
              "        async function convertToInteractive(key) {\n",
              "          const element = document.querySelector('#df-cc75d321-82a3-4b91-82cb-872c30a37272');\n",
              "          const dataTable =\n",
              "            await google.colab.kernel.invokeFunction('convertToInteractive',\n",
              "                                                     [key], {});\n",
              "          if (!dataTable) return;\n",
              "\n",
              "          const docLinkHtml = 'Like what you see? Visit the ' +\n",
              "            '<a target=\"_blank\" href=https://colab.research.google.com/notebooks/data_table.ipynb>data table notebook</a>'\n",
              "            + ' to learn more about interactive tables.';\n",
              "          element.innerHTML = '';\n",
              "          dataTable['output_type'] = 'display_data';\n",
              "          await google.colab.output.renderOutput(dataTable, element);\n",
              "          const docLink = document.createElement('div');\n",
              "          docLink.innerHTML = docLinkHtml;\n",
              "          element.appendChild(docLink);\n",
              "        }\n",
              "      </script>\n",
              "    </div>\n",
              "  </div>\n",
              "  "
            ],
            "text/plain": [
              "       Account Length    Area Code  ...  Intl Charge  CustServ Calls\n",
              "count     3333.000000  3333.000000  ...  3333.000000     3333.000000\n",
              "mean       101.064806   437.182418  ...     2.764581        1.562856\n",
              "std         39.822106    42.371290  ...     0.753773        1.315491\n",
              "min          1.000000   408.000000  ...     0.000000        0.000000\n",
              "25%         74.000000   408.000000  ...     2.300000        1.000000\n",
              "50%        101.000000   415.000000  ...     2.780000        1.000000\n",
              "75%        127.000000   510.000000  ...     3.270000        2.000000\n",
              "max        243.000000   510.000000  ...     5.400000        9.000000\n",
              "\n",
              "[8 rows x 16 columns]"
            ]
          },
          "metadata": {},
          "execution_count": 266
        }
      ],
      "source": [
        "# Show Data Describtive statistcs\n",
        "df.describe()"
      ]
    },
    {
      "cell_type": "code",
      "execution_count": 267,
      "metadata": {
        "id": "tsOEfmd-E34W"
      },
      "outputs": [],
      "source": [
        "##Import required libraries to plot Data \n",
        "import matplotlib.pyplot as plt\n",
        "import seaborn as sns"
      ]
    },
    {
      "cell_type": "code",
      "execution_count": 268,
      "metadata": {
        "colab": {
          "base_uri": "https://localhost:8080/",
          "height": 378
        },
        "id": "ZlW40zMtE34W",
        "outputId": "97475e86-fe5f-47e5-d4f2-b69540cea722"
      },
      "outputs": [
        {
          "output_type": "execute_result",
          "data": {
            "text/plain": [
              "<matplotlib.axes._subplots.AxesSubplot at 0x7f65eda66690>"
            ]
          },
          "metadata": {},
          "execution_count": 268
        },
        {
          "output_type": "display_data",
          "data": {
            "image/png": "[encoded data removed]",
            "text/plain": [
              "<Figure size 576x396 with 1 Axes>"
            ]
          },
          "metadata": {}
        }
      ],
      "source": [
        "#Show HistoGramme for Account Length column\n",
        "sns.histplot(df['Account Length'])"
      ]
    },
    {
      "cell_type": "code",
      "execution_count": 269,
      "metadata": {
        "colab": {
          "base_uri": "https://localhost:8080/",
          "height": 378
        },
        "id": "xyikKWL1E34W",
        "outputId": "88430fc8-1705-49ea-ab50-e7f872468b96"
      },
      "outputs": [
        {
          "output_type": "execute_result",
          "data": {
            "text/plain": [
              "<matplotlib.axes._subplots.AxesSubplot at 0x7f65ed8ce050>"
            ]
          },
          "metadata": {},
          "execution_count": 269
        },
        {
          "output_type": "display_data",
          "data": {
            "image/png": "[encoded data removed]",
            "text/plain": [
              "<Figure size 576x396 with 1 Axes>"
            ]
          },
          "metadata": {}
        }
      ],
      "source": [
        "#Show KDEPlot for Account Length column and Churn\n",
        "sns.kdeplot(x='Account Length', hue='Churn', data=df)"
      ]
    },
    {
      "cell_type": "code",
      "execution_count": 270,
      "metadata": {
        "id": "B2KD7gxlE34X"
      },
      "outputs": [],
      "source": [
        "# add a new column 'is_Churn' to Mark all Churned client  \n",
        "df['is_churn'] = (df['Churn'] == 'True.').astype(int)"
      ]
    },
    {
      "cell_type": "code",
      "execution_count": 271,
      "metadata": {
        "colab": {
          "base_uri": "https://localhost:8080/",
          "height": 378
        },
        "id": "3tPqXqP3E34X",
        "outputId": "077e7e62-2add-4004-94cb-27a85bc6a528"
      },
      "outputs": [
        {
          "output_type": "execute_result",
          "data": {
            "text/plain": [
              "<matplotlib.axes._subplots.AxesSubplot at 0x7f65ed840490>"
            ]
          },
          "metadata": {},
          "execution_count": 271
        },
        {
          "output_type": "display_data",
          "data": {
            "image/png": "[encoded data removed]",
            "text/plain": [
              "<Figure size 576x396 with 1 Axes>"
            ]
          },
          "metadata": {}
        }
      ],
      "source": [
        "#Show BARPlot to visualize all churned client who have a custServ Calls\n",
        "sns.barplot(x='CustServ Calls', y='is_churn', data=df)"
      ]
    },
    {
      "cell_type": "code",
      "execution_count": 272,
      "metadata": {
        "colab": {
          "base_uri": "https://localhost:8080/",
          "height": 1000
        },
        "id": "B0vyQFCrE34X",
        "outputId": "0c9da7f2-95d1-4d21-f8d8-0bc2fadfe9c9"
      },
      "outputs": [
        {
          "output_type": "display_data",
          "data": {
            "image/png": "[encoded data removed]",
            "text/plain": [
              "<Figure size 1152x288 with 1 Axes>"
            ]
          },
          "metadata": {}
        },
        {
          "output_type": "display_data",
          "data": {
            "image/png": "[encoded data removed]",
            "text/plain": [
              "<Figure size 1152x288 with 1 Axes>"
            ]
          },
          "metadata": {}
        },
        {
          "output_type": "display_data",
          "data": {
            "image/png": "[encoded data removed]",
            "text/plain": [
              "<Figure size 1152x288 with 1 Axes>"
            ]
          },
          "metadata": {}
        },
        {
          "output_type": "display_data",
          "data": {
            "image/png": "[encoded data removed]",
            "text/plain": [
              "<Figure size 1152x288 with 1 Axes>"
            ]
          },
          "metadata": {}
        },
        {
          "output_type": "display_data",
          "data": {
            "image/png": "[encoded data removed]",
            "text/plain": [
              "<Figure size 1152x288 with 1 Axes>"
            ]
          },
          "metadata": {}
        }
      ],
      "source": [
        "#Show BARPlot to visualize all churned client based'State,Area Code,Intl Plan, all,VMail Plan,VMail Message'\n",
        "for col in ['State', 'Area Code', 'Intl Plan', 'VMail Plan', 'VMail Message']:\n",
        "    plt.figure(figsize=(16, 4))\n",
        "    sns.barplot(x=col, y='is_churn', data=df)\n",
        "    plt.show()"
      ]
    },
    {
      "cell_type": "code",
      "execution_count": 273,
      "metadata": {
        "colab": {
          "base_uri": "https://localhost:8080/"
        },
        "id": "Nr2QqchAE34Y",
        "outputId": "290de8e6-339f-482a-f22d-dd0186785eec"
      },
      "outputs": [
        {
          "output_type": "execute_result",
          "data": {
            "text/plain": [
              "0     2411\n",
              "31      60\n",
              "29      53\n",
              "28      51\n",
              "33      46\n",
              "27      44\n",
              "30      44\n",
              "24      42\n",
              "26      41\n",
              "32      41\n",
              "25      37\n",
              "23      36\n",
              "36      34\n",
              "35      32\n",
              "22      32\n",
              "39      30\n",
              "37      29\n",
              "34      29\n",
              "21      28\n",
              "38      25\n",
              "20      22\n",
              "19      19\n",
              "40      16\n",
              "42      15\n",
              "17      14\n",
              "41      13\n",
              "16      13\n",
              "43       9\n",
              "15       9\n",
              "18       7\n",
              "44       7\n",
              "14       7\n",
              "45       6\n",
              "12       6\n",
              "46       4\n",
              "13       4\n",
              "47       3\n",
              "8        2\n",
              "48       2\n",
              "50       2\n",
              "9        2\n",
              "11       2\n",
              "49       1\n",
              "10       1\n",
              "4        1\n",
              "51       1\n",
              "Name: VMail Message, dtype: int64"
            ]
          },
          "metadata": {},
          "execution_count": 273
        }
      ],
      "source": [
        "#count VMail Message Unique value\n",
        "df['VMail Message'].value_counts()"
      ]
    },
    {
      "cell_type": "code",
      "execution_count": 274,
      "metadata": {
        "colab": {
          "base_uri": "https://localhost:8080/"
        },
        "id": "INnMDuvKE34Y",
        "outputId": "0610688b-a7e0-46a7-ea49-ed7527aac8fa"
      },
      "outputs": [
        {
          "output_type": "stream",
          "name": "stdout",
          "text": [
            "<class 'pandas.core.frame.DataFrame'>\n",
            "RangeIndex: 3333 entries, 0 to 3332\n",
            "Data columns (total 22 columns):\n",
            " #   Column          Non-Null Count  Dtype  \n",
            "---  ------          --------------  -----  \n",
            " 0   State           3333 non-null   object \n",
            " 1   Account Length  3333 non-null   int64  \n",
            " 2   Area Code       3333 non-null   int64  \n",
            " 3   Phone           3333 non-null   object \n",
            " 4   Intl Plan       3333 non-null   object \n",
            " 5   VMail Plan      3333 non-null   object \n",
            " 6   VMail Message   3333 non-null   int64  \n",
            " 7   Day Mins        3333 non-null   float64\n",
            " 8   Day Calls       3333 non-null   int64  \n",
            " 9   Day Charge      3333 non-null   float64\n",
            " 10  Eve Mins        3333 non-null   float64\n",
            " 11  Eve Calls       3333 non-null   int64  \n",
            " 12  Eve Charge      3333 non-null   float64\n",
            " 13  Night Mins      3333 non-null   float64\n",
            " 14  Night Calls     3333 non-null   int64  \n",
            " 15  Night Charge    3333 non-null   float64\n",
            " 16  Intl Mins       3333 non-null   float64\n",
            " 17  Intl Calls      3333 non-null   int64  \n",
            " 18  Intl Charge     3333 non-null   float64\n",
            " 19  CustServ Calls  3333 non-null   int64  \n",
            " 20  Churn           3333 non-null   object \n",
            " 21  is_churn        3333 non-null   int64  \n",
            "dtypes: float64(8), int64(9), object(5)\n",
            "memory usage: 573.0+ KB\n"
          ]
        }
      ],
      "source": [
        "#Show Data Info\n",
        "df.info()"
      ]
    },
    {
      "cell_type": "code",
      "execution_count": 275,
      "metadata": {
        "colab": {
          "base_uri": "https://localhost:8080/"
        },
        "id": "f6AxbwH8E34Y",
        "outputId": "9c85a088-eef1-4318-98a3-d6fc915f9426"
      },
      "outputs": [
        {
          "output_type": "execute_result",
          "data": {
            "text/plain": [
              "0.0"
            ]
          },
          "metadata": {},
          "execution_count": 275
        }
      ],
      "source": [
        "# Verifie if Day Calls as equal to sum of Eve Calls and night calls    \n",
        "(df['Day Calls'] == df['Eve Calls'] + df['Night Calls']).astype(int).mean()"
      ]
    },
    {
      "cell_type": "code",
      "execution_count": 276,
      "metadata": {
        "id": "ZHI7pDnRE34Y"
      },
      "outputs": [],
      "source": [
        "# creat New Variable to save total calls \n",
        "df['Total Calls'] = df['Day Calls'] + df['Eve Calls'] + df['Night Calls']"
      ]
    },
    {
      "cell_type": "code",
      "execution_count": 277,
      "metadata": {
        "id": "0cVASAbnE34Z"
      },
      "outputs": [],
      "source": [
        "# Creat New Variable to save percentage of day and evening Calls \n",
        "df['percent_day_calls'] = df['Day Calls'] / df['Total Calls']\n",
        "df['percent_eve_calls'] = df['Eve Calls'] / df['Total Calls']"
      ]
    },
    {
      "cell_type": "code",
      "execution_count": 278,
      "metadata": {
        "colab": {
          "base_uri": "https://localhost:8080/",
          "height": 378
        },
        "id": "i8EpR8MRE34Z",
        "outputId": "db78f49d-4a23-460d-e5d7-d645f4063335"
      },
      "outputs": [
        {
          "output_type": "execute_result",
          "data": {
            "text/plain": [
              "<matplotlib.axes._subplots.AxesSubplot at 0x7f65ed2637d0>"
            ]
          },
          "metadata": {},
          "execution_count": 278
        },
        {
          "output_type": "display_data",
          "data": {
            "image/png": "[encoded data removed]",
            "text/plain": [
              "<Figure size 576x396 with 1 Axes>"
            ]
          },
          "metadata": {}
        }
      ],
      "source": [
        "#Show HistoGramme for percent_day_calls\n",
        "sns.histplot(df.percent_day_calls)"
      ]
    },
    {
      "cell_type": "code",
      "execution_count": 279,
      "metadata": {
        "colab": {
          "base_uri": "https://localhost:8080/",
          "height": 378
        },
        "id": "V8yuhUAIE34Z",
        "outputId": "c560affa-bd86-4bf0-a8b9-bff07f0b55ea"
      },
      "outputs": [
        {
          "output_type": "execute_result",
          "data": {
            "text/plain": [
              "<matplotlib.axes._subplots.AxesSubplot at 0x7f65ed0f5ed0>"
            ]
          },
          "metadata": {},
          "execution_count": 279
        },
        {
          "output_type": "display_data",
          "data": {
            "image/png": "[encoded data removed]",
            "text/plain": [
              "<Figure size 576x396 with 1 Axes>"
            ]
          },
          "metadata": {}
        }
      ],
      "source": [
        "#Show HistoGramme for percent_eve_calls\n",
        "sns.histplot(df.percent_eve_calls)"
      ]
    },
    {
      "cell_type": "code",
      "execution_count": 280,
      "metadata": {
        "id": "2pHknkRRE34Z"
      },
      "outputs": [],
      "source": [
        "# creat News Variables to calculate ('Day', 'Eve', 'Night', 'Intl) unit cost \n",
        "for param in ['Day', 'Eve', 'Night', 'Intl']:\n",
        "    df[param+ '_unit_cost'] = df[param+ ' Charge'] / df[param+ ' Mins']"
      ]
    },
    {
      "cell_type": "code",
      "execution_count": 281,
      "metadata": {
        "colab": {
          "base_uri": "https://localhost:8080/",
          "height": 378
        },
        "id": "--LaCEErE34Z",
        "outputId": "3f7cf16d-fd71-4cbb-fd05-a989ebdb45de"
      },
      "outputs": [
        {
          "output_type": "execute_result",
          "data": {
            "text/plain": [
              "<matplotlib.axes._subplots.AxesSubplot at 0x7f65ecffa8d0>"
            ]
          },
          "metadata": {},
          "execution_count": 281
        },
        {
          "output_type": "display_data",
          "data": {
            "image/png": "[encoded data removed]",
            "text/plain": [
              "<Figure size 576x396 with 1 Axes>"
            ]
          },
          "metadata": {}
        }
      ],
      "source": [
        "#Show barplot for Internet Plan and internet unitcost\n",
        "sns.barplot(x='Intl Plan', y='Intl_unit_cost', data=df)"
      ]
    },
    {
      "cell_type": "code",
      "execution_count": 282,
      "metadata": {
        "id": "esww1xujE34a"
      },
      "outputs": [],
      "source": [
        "#creat New Variable total charge to sum day charge , night charge , internet charge and evening charge\n",
        "df['total_charge'] = df['Day Charge']+df['Eve Charge']+df['Night Charge']+df['Intl Charge']"
      ]
    },
    {
      "cell_type": "code",
      "execution_count": 283,
      "metadata": {
        "colab": {
          "base_uri": "https://localhost:8080/",
          "height": 378
        },
        "id": "MoD1a5twE34a",
        "outputId": "4664c938-0d2a-40d9-cdc7-4b60c8687b8d"
      },
      "outputs": [
        {
          "output_type": "execute_result",
          "data": {
            "text/plain": [
              "<matplotlib.axes._subplots.AxesSubplot at 0x7f65ecfd06d0>"
            ]
          },
          "metadata": {},
          "execution_count": 283
        },
        {
          "output_type": "display_data",
          "data": {
            "image/png": "[encoded data removed]",
            "text/plain": [
              "<Figure size 576x396 with 1 Axes>"
            ]
          },
          "metadata": {}
        }
      ],
      "source": [
        "#Show HistoGramme of total charge\n",
        "sns.histplot(df.total_charge)"
      ]
    },
    {
      "cell_type": "code",
      "execution_count": 284,
      "metadata": {
        "colab": {
          "base_uri": "https://localhost:8080/"
        },
        "id": "IGZ7ge5LE34a",
        "outputId": "520885ec-fcd9-41f4-ee18-f5cd43492153"
      },
      "outputs": [
        {
          "output_type": "stream",
          "name": "stdout",
          "text": [
            "<class 'pandas.core.frame.DataFrame'>\n",
            "RangeIndex: 3333 entries, 0 to 3332\n",
            "Data columns (total 30 columns):\n",
            " #   Column             Non-Null Count  Dtype  \n",
            "---  ------             --------------  -----  \n",
            " 0   State              3333 non-null   object \n",
            " 1   Account Length     3333 non-null   int64  \n",
            " 2   Area Code          3333 non-null   int64  \n",
            " 3   Phone              3333 non-null   object \n",
            " 4   Intl Plan          3333 non-null   object \n",
            " 5   VMail Plan         3333 non-null   object \n",
            " 6   VMail Message      3333 non-null   int64  \n",
            " 7   Day Mins           3333 non-null   float64\n",
            " 8   Day Calls          3333 non-null   int64  \n",
            " 9   Day Charge         3333 non-null   float64\n",
            " 10  Eve Mins           3333 non-null   float64\n",
            " 11  Eve Calls          3333 non-null   int64  \n",
            " 12  Eve Charge         3333 non-null   float64\n",
            " 13  Night Mins         3333 non-null   float64\n",
            " 14  Night Calls        3333 non-null   int64  \n",
            " 15  Night Charge       3333 non-null   float64\n",
            " 16  Intl Mins          3333 non-null   float64\n",
            " 17  Intl Calls         3333 non-null   int64  \n",
            " 18  Intl Charge        3333 non-null   float64\n",
            " 19  CustServ Calls     3333 non-null   int64  \n",
            " 20  Churn              3333 non-null   object \n",
            " 21  is_churn           3333 non-null   int64  \n",
            " 22  Total Calls        3333 non-null   int64  \n",
            " 23  percent_day_calls  3333 non-null   float64\n",
            " 24  percent_eve_calls  3333 non-null   float64\n",
            " 25  Day_unit_cost      3331 non-null   float64\n",
            " 26  Eve_unit_cost      3332 non-null   float64\n",
            " 27  Night_unit_cost    3333 non-null   float64\n",
            " 28  Intl_unit_cost     3315 non-null   float64\n",
            " 29  total_charge       3333 non-null   float64\n",
            "dtypes: float64(15), int64(10), object(5)\n",
            "memory usage: 781.3+ KB\n"
          ]
        }
      ],
      "source": [
        "#Show Data info\n",
        "df.info()"
      ]
    },
    {
      "cell_type": "code",
      "execution_count": 285,
      "metadata": {
        "id": "ako5wbe7E34a"
      },
      "outputs": [],
      "source": [
        "#creat New Variable List  to store all variables \n",
        "list_variables = []"
      ]
    },
    {
      "cell_type": "code",
      "execution_count": 286,
      "metadata": {
        "id": "7dkE91uhE34a"
      },
      "outputs": [],
      "source": [
        "#creat new variable to store unbiased calls and add to variables list \n",
        "df['calls_nb'] = df['Total Calls'] / df['Account Length']\n",
        "list_variables.append('calls_nb')"
      ]
    },
    {
      "cell_type": "code",
      "execution_count": 287,
      "metadata": {
        "id": "o2HGmCG1E34a"
      },
      "outputs": [],
      "source": [
        "#creat new variable to store unbiased sevice calls and add to variables list\n",
        "df['service_calls_nb'] = df['CustServ Calls'] / df['calls_nb']\n",
        "list_variables.append('service_calls_nb')"
      ]
    },
    {
      "cell_type": "code",
      "execution_count": 288,
      "metadata": {
        "colab": {
          "base_uri": "https://localhost:8080/",
          "height": 378
        },
        "id": "b11vgXWCE34a",
        "outputId": "6148e9ab-bb0a-425d-f433-3645a2030a80"
      },
      "outputs": [
        {
          "output_type": "execute_result",
          "data": {
            "text/plain": [
              "<matplotlib.axes._subplots.AxesSubplot at 0x7f65ecf94290>"
            ]
          },
          "metadata": {},
          "execution_count": 288
        },
        {
          "output_type": "display_data",
          "data": {
            "image/png": "[encoded data removed]",
            "text/plain": [
              "<Figure size 576x396 with 1 Axes>"
            ]
          },
          "metadata": {}
        }
      ],
      "source": [
        "#Show HistoGramme of service_calls_nb\n",
        "sns.histplot(df.service_calls_nb)"
      ]
    },
    {
      "cell_type": "code",
      "execution_count": 289,
      "metadata": {
        "id": "DiLPCjGoE34b"
      },
      "outputs": [],
      "source": [
        "#Concatenation Intl Plan , VMail Plan to creat new variable \n",
        "df['both_plans'] = df['Intl Plan'] + '_' + df['VMail Plan']\n",
        "list_variables.append('both_plans')"
      ]
    },
    {
      "cell_type": "code",
      "execution_count": 290,
      "metadata": {
        "colab": {
          "base_uri": "https://localhost:8080/",
          "height": 378
        },
        "id": "WD_TODlBE34b",
        "outputId": "c677150e-b3e1-44a2-fbc2-5f415893d992"
      },
      "outputs": [
        {
          "output_type": "execute_result",
          "data": {
            "text/plain": [
              "<matplotlib.axes._subplots.AxesSubplot at 0x7f65ecdd8850>"
            ]
          },
          "metadata": {},
          "execution_count": 290
        },
        {
          "output_type": "display_data",
          "data": {
            "image/png": "[encoded data removed]",
            "text/plain": [
              "<Figure size 576x396 with 1 Axes>"
            ]
          },
          "metadata": {}
        }
      ],
      "source": [
        "# Show Barplot of both plans \n",
        "sns.barplot(y='is_churn', x='both_plans', data=df)"
      ]
    },
    {
      "cell_type": "code",
      "execution_count": 291,
      "metadata": {
        "id": "nFGySqikE34b",
        "colab": {
          "base_uri": "https://localhost:8080/",
          "height": 378
        },
        "outputId": "f71aefb5-c55d-41c4-e0ba-6a9714f73711"
      },
      "outputs": [
        {
          "output_type": "execute_result",
          "data": {
            "text/plain": [
              "<matplotlib.axes._subplots.AxesSubplot at 0x7f65ecd4c710>"
            ]
          },
          "metadata": {},
          "execution_count": 291
        },
        {
          "output_type": "display_data",
          "data": {
            "image/png": "[encoded data removed]",
            "text/plain": [
              "<Figure size 576x396 with 1 Axes>"
            ]
          },
          "metadata": {}
        }
      ],
      "source": [
        "# Show Barplot of Area Code\n",
        "sns.barplot(x='Area Code', y='service_calls_nb', data=df)"
      ]
    },
    {
      "cell_type": "code",
      "execution_count": 292,
      "metadata": {
        "id": "_NmF6ORkE34b"
      },
      "outputs": [],
      "source": [
        "# creat new variable to store division value of total_charge and Account Length\n",
        "df['charge_per_month'] = df['total_charge'] / df['Account Length']\n",
        "list_variables.append('charge_per_month')"
      ]
    },
    {
      "cell_type": "code",
      "execution_count": 293,
      "metadata": {
        "id": "X9yU_uCTE34b",
        "colab": {
          "base_uri": "https://localhost:8080/",
          "height": 378
        },
        "outputId": "0c757056-eebd-47e8-a44a-0f9f0bf25e6a"
      },
      "outputs": [
        {
          "output_type": "execute_result",
          "data": {
            "text/plain": [
              "<matplotlib.axes._subplots.AxesSubplot at 0x7f65eccdced0>"
            ]
          },
          "metadata": {},
          "execution_count": 293
        },
        {
          "output_type": "display_data",
          "data": {
            "image/png": "[encoded data removed]",
            "text/plain": [
              "<Figure size 576x396 with 1 Axes>"
            ]
          },
          "metadata": {}
        }
      ],
      "source": [
        "#Show HistoGramme of charge_per_month\n",
        "sns.histplot(df.charge_per_month)"
      ]
    },
    {
      "cell_type": "code",
      "execution_count": 294,
      "metadata": {
        "id": "jBW4BRGTE34b"
      },
      "outputs": [],
      "source": [
        "#use logarithm and creat new variable \n",
        "df['log_charger_per_month'] = np.log(1 + df['charge_per_month'])\n",
        "list_variables.append('log_charger_per_month')"
      ]
    },
    {
      "cell_type": "code",
      "execution_count": 295,
      "metadata": {
        "id": "UhKml8JgE34c",
        "colab": {
          "base_uri": "https://localhost:8080/",
          "height": 378
        },
        "outputId": "3f22f448-5c46-491e-9ab4-a284ac1ead12"
      },
      "outputs": [
        {
          "output_type": "execute_result",
          "data": {
            "text/plain": [
              "<matplotlib.axes._subplots.AxesSubplot at 0x7f65ec25d790>"
            ]
          },
          "metadata": {},
          "execution_count": 295
        },
        {
          "output_type": "display_data",
          "data": {
            "image/png": "[encoded data removed]",
            "text/plain": [
              "<Figure size 576x396 with 1 Axes>"
            ]
          },
          "metadata": {}
        }
      ],
      "source": [
        "#Show HistoGramme of log_charger_per_month\n",
        "sns.histplot(df.log_charger_per_month)"
      ]
    },
    {
      "cell_type": "code",
      "execution_count": 296,
      "metadata": {
        "id": "ydG7GDrUE34c"
      },
      "outputs": [],
      "source": [
        "# Creat new varaible to store sum of (Day Calls,Eve Calls,Night Calls,Intl Calls)\n",
        "df['total_calls'] = df['Day Calls']+df['Eve Calls']+df['Night Calls']+df['Intl Calls']\n",
        "list_variables.append('total_calls')"
      ]
    },
    {
      "cell_type": "code",
      "execution_count": 297,
      "metadata": {
        "id": "KRxTemjFE34c",
        "colab": {
          "base_uri": "https://localhost:8080/",
          "height": 378
        },
        "outputId": "1506335a-fc62-4ed4-8ee0-4419e4090166"
      },
      "outputs": [
        {
          "output_type": "execute_result",
          "data": {
            "text/plain": [
              "<matplotlib.axes._subplots.AxesSubplot at 0x7f65ec1a2e50>"
            ]
          },
          "metadata": {},
          "execution_count": 297
        },
        {
          "output_type": "display_data",
          "data": {
            "image/png": "[encoded data removed]",
            "text/plain": [
              "<Figure size 576x396 with 1 Axes>"
            ]
          },
          "metadata": {}
        }
      ],
      "source": [
        "#Show HistoGramme of total calls\n",
        "sns.histplot(df.total_calls)"
      ]
    },
    {
      "cell_type": "code",
      "execution_count": 298,
      "metadata": {
        "id": "LsKnWt_GE34c"
      },
      "outputs": [],
      "source": [
        "# Creat new varaible to store sum of (Day Mins,Eve Mins,Night Mins,Intl Mins)\n",
        "df['total_mins'] = df['Day Mins']+df['Eve Mins']+df['Night Mins']+df['Intl Mins']\n",
        "list_variables.append('total_mins')"
      ]
    },
    {
      "cell_type": "code",
      "execution_count": 299,
      "metadata": {
        "id": "itKt581lE34c"
      },
      "outputs": [],
      "source": [
        "#creat new variable to store division value of total_mins and total_calls\n",
        "df['mins_per_call'] = df['total_mins'] / df['total_calls']\n",
        "list_variables.append('mins_per_call')"
      ]
    },
    {
      "cell_type": "code",
      "execution_count": 300,
      "metadata": {
        "id": "q_bZxKZYE34c",
        "colab": {
          "base_uri": "https://localhost:8080/",
          "height": 378
        },
        "outputId": "da33fc14-aec6-44f8-d713-0a682510db8b"
      },
      "outputs": [
        {
          "output_type": "execute_result",
          "data": {
            "text/plain": [
              "<matplotlib.axes._subplots.AxesSubplot at 0x7f65ebf16950>"
            ]
          },
          "metadata": {},
          "execution_count": 300
        },
        {
          "output_type": "display_data",
          "data": {
            "image/png": "[encoded data removed]",
            "text/plain": [
              "<Figure size 576x396 with 1 Axes>"
            ]
          },
          "metadata": {}
        }
      ],
      "source": [
        "#Show HistoGramme of mins per call\n",
        "\n",
        "sns.histplot(df.mins_per_call)"
      ]
    },
    {
      "cell_type": "code",
      "execution_count": 301,
      "metadata": {
        "id": "eju0ehmWE34c",
        "colab": {
          "base_uri": "https://localhost:8080/"
        },
        "outputId": "38fcd001-e728-470c-a5b0-5f98feeb10b4"
      },
      "outputs": [
        {
          "output_type": "execute_result",
          "data": {
            "text/plain": [
              "['calls_nb',\n",
              " 'service_calls_nb',\n",
              " 'both_plans',\n",
              " 'charge_per_month',\n",
              " 'log_charger_per_month',\n",
              " 'total_calls',\n",
              " 'total_mins',\n",
              " 'mins_per_call']"
            ]
          },
          "metadata": {},
          "execution_count": 301
        }
      ],
      "source": [
        "#Show all variables \n",
        "list_variables"
      ]
    },
    {
      "cell_type": "code",
      "execution_count": 302,
      "metadata": {
        "id": "mdL4FHFME34d",
        "colab": {
          "base_uri": "https://localhost:8080/",
          "height": 378
        },
        "outputId": "cc7e4ce7-6e2b-4f88-d696-d4b5efef7ea5"
      },
      "outputs": [
        {
          "output_type": "execute_result",
          "data": {
            "text/plain": [
              "<matplotlib.axes._subplots.AxesSubplot at 0x7f65ebfff110>"
            ]
          },
          "metadata": {},
          "execution_count": 302
        },
        {
          "output_type": "display_data",
          "data": {
            "image/png": "[encoded data removed]",
            "text/plain": [
              "<Figure size 576x396 with 1 Axes>"
            ]
          },
          "metadata": {}
        }
      ],
      "source": [
        "#Show HistoGramme of calls nb\n",
        "sns.histplot(df.calls_nb)"
      ]
    },
    {
      "cell_type": "code",
      "execution_count": 303,
      "metadata": {
        "id": "MXO1JoZjE34d"
      },
      "outputs": [],
      "source": [
        "#use logarithm and creat new variable \n",
        "df['log_calls_nb'] = np.log(1 + df['calls_nb'])\n",
        "list_variables.append('log_calls_nb')"
      ]
    },
    {
      "cell_type": "code",
      "execution_count": 304,
      "metadata": {
        "id": "KZ-UoZt3E34d",
        "colab": {
          "base_uri": "https://localhost:8080/",
          "height": 378
        },
        "outputId": "b4c7857a-efe3-463d-d0f5-f335103049be"
      },
      "outputs": [
        {
          "output_type": "execute_result",
          "data": {
            "text/plain": [
              "<matplotlib.axes._subplots.AxesSubplot at 0x7f65ebd66d50>"
            ]
          },
          "metadata": {},
          "execution_count": 304
        },
        {
          "output_type": "display_data",
          "data": {
            "image/png": "[encoded data removed]",
            "text/plain": [
              "<Figure size 576x396 with 1 Axes>"
            ]
          },
          "metadata": {}
        }
      ],
      "source": [
        "#Show HistoGramme of log_calls_nb\n",
        "sns.histplot(df.log_calls_nb)"
      ]
    },
    {
      "cell_type": "code",
      "execution_count": 305,
      "metadata": {
        "id": "lDgiwGK_E34d",
        "colab": {
          "base_uri": "https://localhost:8080/"
        },
        "outputId": "0d1e4170-5460-4eee-c28f-1dfcaf105de4"
      },
      "outputs": [
        {
          "output_type": "stream",
          "name": "stdout",
          "text": [
            "<class 'pandas.core.frame.DataFrame'>\n",
            "RangeIndex: 3333 entries, 0 to 3332\n",
            "Data columns (total 39 columns):\n",
            " #   Column                 Non-Null Count  Dtype  \n",
            "---  ------                 --------------  -----  \n",
            " 0   State                  3333 non-null   object \n",
            " 1   Account Length         3333 non-null   int64  \n",
            " 2   Area Code              3333 non-null   int64  \n",
            " 3   Phone                  3333 non-null   object \n",
            " 4   Intl Plan              3333 non-null   object \n",
            " 5   VMail Plan             3333 non-null   object \n",
            " 6   VMail Message          3333 non-null   int64  \n",
            " 7   Day Mins               3333 non-null   float64\n",
            " 8   Day Calls              3333 non-null   int64  \n",
            " 9   Day Charge             3333 non-null   float64\n",
            " 10  Eve Mins               3333 non-null   float64\n",
            " 11  Eve Calls              3333 non-null   int64  \n",
            " 12  Eve Charge             3333 non-null   float64\n",
            " 13  Night Mins             3333 non-null   float64\n",
            " 14  Night Calls            3333 non-null   int64  \n",
            " 15  Night Charge           3333 non-null   float64\n",
            " 16  Intl Mins              3333 non-null   float64\n",
            " 17  Intl Calls             3333 non-null   int64  \n",
            " 18  Intl Charge            3333 non-null   float64\n",
            " 19  CustServ Calls         3333 non-null   int64  \n",
            " 20  Churn                  3333 non-null   object \n",
            " 21  is_churn               3333 non-null   int64  \n",
            " 22  Total Calls            3333 non-null   int64  \n",
            " 23  percent_day_calls      3333 non-null   float64\n",
            " 24  percent_eve_calls      3333 non-null   float64\n",
            " 25  Day_unit_cost          3331 non-null   float64\n",
            " 26  Eve_unit_cost          3332 non-null   float64\n",
            " 27  Night_unit_cost        3333 non-null   float64\n",
            " 28  Intl_unit_cost         3315 non-null   float64\n",
            " 29  total_charge           3333 non-null   float64\n",
            " 30  calls_nb               3333 non-null   float64\n",
            " 31  service_calls_nb       3333 non-null   float64\n",
            " 32  both_plans             3333 non-null   object \n",
            " 33  charge_per_month       3333 non-null   float64\n",
            " 34  log_charger_per_month  3333 non-null   float64\n",
            " 35  total_calls            3333 non-null   int64  \n",
            " 36  total_mins             3333 non-null   float64\n",
            " 37  mins_per_call          3333 non-null   float64\n",
            " 38  log_calls_nb           3333 non-null   float64\n",
            "dtypes: float64(22), int64(11), object(6)\n",
            "memory usage: 1015.6+ KB\n"
          ]
        }
      ],
      "source": [
        "# Show Data Info \n",
        "df.info()"
      ]
    },
    {
      "cell_type": "code",
      "execution_count": 306,
      "metadata": {
        "id": "eXdDi0M9E34d",
        "colab": {
          "base_uri": "https://localhost:8080/",
          "height": 378
        },
        "outputId": "8d9ec92e-e955-4ef3-ebab-524feb9bd3b4"
      },
      "outputs": [
        {
          "output_type": "execute_result",
          "data": {
            "text/plain": [
              "<matplotlib.axes._subplots.AxesSubplot at 0x7f65eaa32110>"
            ]
          },
          "metadata": {},
          "execution_count": 306
        },
        {
          "output_type": "display_data",
          "data": {
            "image/png": "[encoded data removed]",
            "text/plain": [
              "<Figure size 576x396 with 1 Axes>"
            ]
          },
          "metadata": {}
        }
      ],
      "source": [
        "#Show HistoGramme of log calls nb\n",
        "sns.histplot(df.log_calls_nb)"
      ]
    },
    {
      "cell_type": "code",
      "execution_count": 307,
      "metadata": {
        "id": "2n8We8esE34d",
        "colab": {
          "base_uri": "https://localhost:8080/"
        },
        "outputId": "0107cafd-7cab-45f4-d4a3-ba489bdc0eca"
      },
      "outputs": [
        {
          "output_type": "execute_result",
          "data": {
            "text/plain": [
              "1.3830423257335134"
            ]
          },
          "metadata": {},
          "execution_count": 307
        }
      ],
      "source": [
        "#calculat median of log calls nb\n",
        "df.log_calls_nb.median()"
      ]
    },
    {
      "cell_type": "code",
      "execution_count": 308,
      "metadata": {
        "id": "ykU0e4gbE34d",
        "colab": {
          "base_uri": "https://localhost:8080/"
        },
        "outputId": "7ba66d42-4901-4ba8-c2e2-eae4039c63b6"
      },
      "outputs": [
        {
          "output_type": "execute_result",
          "data": {
            "text/plain": [
              "count    3333.000000\n",
              "mean        1.481965\n",
              "std         0.473356\n",
              "min         0.753045\n",
              "10%         1.073147\n",
              "20%         1.164299\n",
              "30%         1.237405\n",
              "40%         1.306028\n",
              "50%         1.383042\n",
              "60%         1.465332\n",
              "70%         1.566203\n",
              "80%         1.709786\n",
              "90%         1.959200\n",
              "max         5.921578\n",
              "Name: log_calls_nb, dtype: float64"
            ]
          },
          "metadata": {},
          "execution_count": 308
        }
      ],
      "source": [
        "#Description of log calls nb \n",
        "df.log_calls_nb.describe([k/10 for k in range(1, 10)])"
      ]
    },
    {
      "cell_type": "code",
      "execution_count": 309,
      "metadata": {
        "id": "52UwDRCzE34e"
      },
      "outputs": [],
      "source": [
        "# Filtring all log_calls_nb value and classifie to 3 categories\n",
        "df.loc[df['log_calls_nb'] >= 1.959200, 'freq_calls'] = 'high_calls'\n",
        "df.loc[df['log_calls_nb'] < 1.959200, 'freq_calls'] = 'med_calls'\n",
        "df.loc[df['log_calls_nb'] < 1.383042, 'freq_calls'] = 'low_calls'"
      ]
    },
    {
      "cell_type": "code",
      "execution_count": 310,
      "metadata": {
        "id": "JrugEkp2E34e",
        "colab": {
          "base_uri": "https://localhost:8080/",
          "height": 206
        },
        "outputId": "056d2041-31a5-411c-8523-f9db0ada6188"
      },
      "outputs": [
        {
          "output_type": "execute_result",
          "data": {
            "text/html": [
              "\n",
              "  <div id=\"df-f13afac6-d51f-4fb5-a6bf-99f2e24c3652\">\n",
              "    <div class=\"colab-df-container\">\n",
              "      <div>\n",
              "<style scoped>\n",
              "    .dataframe tbody tr th:only-of-type {\n",
              "        vertical-align: middle;\n",
              "    }\n",
              "\n",
              "    .dataframe tbody tr th {\n",
              "        vertical-align: top;\n",
              "    }\n",
              "\n",
              "    .dataframe thead tr th {\n",
              "        text-align: left;\n",
              "    }\n",
              "\n",
              "    .dataframe thead tr:last-of-type th {\n",
              "        text-align: right;\n",
              "    }\n",
              "</style>\n",
              "<table border=\"1\" class=\"dataframe\">\n",
              "  <thead>\n",
              "    <tr>\n",
              "      <th></th>\n",
              "      <th colspan=\"3\" halign=\"left\">log_calls_nb</th>\n",
              "    </tr>\n",
              "    <tr>\n",
              "      <th></th>\n",
              "      <th>min</th>\n",
              "      <th>median</th>\n",
              "      <th>max</th>\n",
              "    </tr>\n",
              "    <tr>\n",
              "      <th>freq_calls</th>\n",
              "      <th></th>\n",
              "      <th></th>\n",
              "      <th></th>\n",
              "    </tr>\n",
              "  </thead>\n",
              "  <tbody>\n",
              "    <tr>\n",
              "      <th>high_calls</th>\n",
              "      <td>1.959297</td>\n",
              "      <td>2.276938</td>\n",
              "      <td>5.921578</td>\n",
              "    </tr>\n",
              "    <tr>\n",
              "      <th>low_calls</th>\n",
              "      <td>0.753045</td>\n",
              "      <td>1.201059</td>\n",
              "      <td>1.381937</td>\n",
              "    </tr>\n",
              "    <tr>\n",
              "      <th>med_calls</th>\n",
              "      <td>1.383042</td>\n",
              "      <td>1.566162</td>\n",
              "      <td>1.958814</td>\n",
              "    </tr>\n",
              "  </tbody>\n",
              "</table>\n",
              "</div>\n",
              "      <button class=\"colab-df-convert\" onclick=\"convertToInteractive('df-f13afac6-d51f-4fb5-a6bf-99f2e24c3652')\"\n",
              "              title=\"Convert this dataframe to an interactive table.\"\n",
              "              style=\"display:none;\">\n",
              "        \n",
              "  <svg xmlns=\"http://www.w3.org/2000/svg\" height=\"24px\"viewBox=\"0 0 24 24\"\n",
              "       width=\"24px\">\n",
              "    <path d=\"M0 0h24v24H0V0z\" fill=\"none\"/>\n",
              "    <path d=\"M18.56 5.44l.94 2.06.94-2.06 2.06-.94-2.06-.94-.94-2.06-.94 2.06-2.06.94zm-11 1L8.5 8.5l.94-2.06 2.06-.94-2.06-.94L8.5 2.5l-.94 2.06-2.06.94zm10 10l.94 2.06.94-2.06 2.06-.94-2.06-.94-.94-2.06-.94 2.06-2.06.94z\"/><path d=\"M17.41 7.96l-1.37-1.37c-.4-.4-.92-.59-1.43-.59-.52 0-1.04.2-1.43.59L10.3 9.45l-7.72 7.72c-.78.78-.78 2.05 0 2.83L4 21.41c.39.39.9.59 1.41.59.51 0 1.02-.2 1.41-.59l7.78-7.78 2.81-2.81c.8-.78.8-2.07 0-2.86zM5.41 20L4 18.59l7.72-7.72 1.47 1.35L5.41 20z\"/>\n",
              "  </svg>\n",
              "      </button>\n",
              "      \n",
              "  <style>\n",
              "    .colab-df-container {\n",
              "      display:flex;\n",
              "      flex-wrap:wrap;\n",
              "      gap: 12px;\n",
              "    }\n",
              "\n",
              "    .colab-df-convert {\n",
              "      background-color: #E8F0FE;\n",
              "      border: none;\n",
              "      border-radius: 50%;\n",
              "      cursor: pointer;\n",
              "      display: none;\n",
              "      fill: #1967D2;\n",
              "      height: 32px;\n",
              "      padding: 0 0 0 0;\n",
              "      width: 32px;\n",
              "    }\n",
              "\n",
              "    .colab-df-convert:hover {\n",
              "      background-color: #E2EBFA;\n",
              "      box-shadow: 0px 1px 2px rgba(60, 64, 67, 0.3), 0px 1px 3px 1px rgba(60, 64, 67, 0.15);\n",
              "      fill: #174EA6;\n",
              "    }\n",
              "\n",
              "    [theme=dark] .colab-df-convert {\n",
              "      background-color: #3B4455;\n",
              "      fill: #D2E3FC;\n",
              "    }\n",
              "\n",
              "    [theme=dark] .colab-df-convert:hover {\n",
              "      background-color: #434B5C;\n",
              "      box-shadow: 0px 1px 3px 1px rgba(0, 0, 0, 0.15);\n",
              "      filter: drop-shadow(0px 1px 2px rgba(0, 0, 0, 0.3));\n",
              "      fill: #FFFFFF;\n",
              "    }\n",
              "  </style>\n",
              "\n",
              "      <script>\n",
              "        const buttonEl =\n",
              "          document.querySelector('#df-f13afac6-d51f-4fb5-a6bf-99f2e24c3652 button.colab-df-convert');\n",
              "        buttonEl.style.display =\n",
              "          google.colab.kernel.accessAllowed ? 'block' : 'none';\n",
              "\n",
              "        async function convertToInteractive(key) {\n",
              "          const element = document.querySelector('#df-f13afac6-d51f-4fb5-a6bf-99f2e24c3652');\n",
              "          const dataTable =\n",
              "            await google.colab.kernel.invokeFunction('convertToInteractive',\n",
              "                                                     [key], {});\n",
              "          if (!dataTable) return;\n",
              "\n",
              "          const docLinkHtml = 'Like what you see? Visit the ' +\n",
              "            '<a target=\"_blank\" href=https://colab.research.google.com/notebooks/data_table.ipynb>data table notebook</a>'\n",
              "            + ' to learn more about interactive tables.';\n",
              "          element.innerHTML = '';\n",
              "          dataTable['output_type'] = 'display_data';\n",
              "          await google.colab.output.renderOutput(dataTable, element);\n",
              "          const docLink = document.createElement('div');\n",
              "          docLink.innerHTML = docLinkHtml;\n",
              "          element.appendChild(docLink);\n",
              "        }\n",
              "      </script>\n",
              "    </div>\n",
              "  </div>\n",
              "  "
            ],
            "text/plain": [
              "           log_calls_nb                    \n",
              "                    min    median       max\n",
              "freq_calls                                 \n",
              "high_calls     1.959297  2.276938  5.921578\n",
              "low_calls      0.753045  1.201059  1.381937\n",
              "med_calls      1.383042  1.566162  1.958814"
            ]
          },
          "metadata": {},
          "execution_count": 310
        }
      ],
      "source": [
        "#Grouping freq calls columns to 3 groups\n",
        "df.groupby('freq_calls').agg({'log_calls_nb' : ['min', 'median', 'max']})"
      ]
    },
    {
      "cell_type": "code",
      "execution_count": 311,
      "metadata": {
        "id": "qXvi2B-kE34e",
        "colab": {
          "base_uri": "https://localhost:8080/"
        },
        "outputId": "c5b023be-97dc-420a-b9b1-39817c174808"
      },
      "outputs": [
        {
          "output_type": "execute_result",
          "data": {
            "text/plain": [
              "['calls_nb',\n",
              " 'service_calls_nb',\n",
              " 'both_plans',\n",
              " 'charge_per_month',\n",
              " 'log_charger_per_month',\n",
              " 'total_calls',\n",
              " 'total_mins',\n",
              " 'mins_per_call',\n",
              " 'log_calls_nb']"
            ]
          },
          "metadata": {},
          "execution_count": 311
        }
      ],
      "source": [
        "#Show all variables \n",
        "list_variables"
      ]
    },
    {
      "cell_type": "code",
      "execution_count": 312,
      "metadata": {
        "id": "Ex6o_MEfE34e",
        "colab": {
          "base_uri": "https://localhost:8080/",
          "height": 378
        },
        "outputId": "2ffd3df1-3dbc-46a1-c59a-52ba325f6fcc"
      },
      "outputs": [
        {
          "output_type": "execute_result",
          "data": {
            "text/plain": [
              "<matplotlib.axes._subplots.AxesSubplot at 0x7f65ea8831d0>"
            ]
          },
          "metadata": {},
          "execution_count": 312
        },
        {
          "output_type": "display_data",
          "data": {
            "image/png": "[encoded data removed]",
            "text/plain": [
              "<Figure size 576x396 with 1 Axes>"
            ]
          },
          "metadata": {}
        }
      ],
      "source": [
        "#Show HistoGramme of mins per call\n",
        "sns.histplot(df.mins_per_call)"
      ]
    },
    {
      "cell_type": "code",
      "execution_count": 313,
      "metadata": {
        "id": "4vT4EJ0oE34e",
        "colab": {
          "base_uri": "https://localhost:8080/"
        },
        "outputId": "ec5a18a2-8ee6-4edf-d7db-b776d6e7d298"
      },
      "outputs": [
        {
          "output_type": "execute_result",
          "data": {
            "text/plain": [
              "count    3333.000000\n",
              "mean        1.964884\n",
              "std         0.376958\n",
              "min         0.798596\n",
              "25%         1.705187\n",
              "50%         1.939936\n",
              "75%         2.195963\n",
              "max         3.612245\n",
              "Name: mins_per_call, dtype: float64"
            ]
          },
          "metadata": {},
          "execution_count": 313
        }
      ],
      "source": [
        "#describe mins per call column\n",
        "df.mins_per_call.describe()"
      ]
    },
    {
      "cell_type": "code",
      "execution_count": 314,
      "metadata": {
        "id": "rgbGGA12E34e",
        "colab": {
          "base_uri": "https://localhost:8080/",
          "height": 380
        },
        "outputId": "bfa3e3c9-3fd8-46c9-aac5-b40de908b4cd"
      },
      "outputs": [
        {
          "output_type": "execute_result",
          "data": {
            "text/plain": [
              "<matplotlib.axes._subplots.AxesSubplot at 0x7f65ea8431d0>"
            ]
          },
          "metadata": {},
          "execution_count": 314
        },
        {
          "output_type": "display_data",
          "data": {
            "image/png": "[encoded data removed]",
            "text/plain": [
              "<Figure size 576x396 with 1 Axes>"
            ]
          },
          "metadata": {}
        }
      ],
      "source": [
        "#Show KDEPlot of mins per call\n",
        "sns.kdeplot(x='mins_per_call', hue='is_churn', data=df)"
      ]
    },
    {
      "cell_type": "code",
      "execution_count": 315,
      "metadata": {
        "id": "S63M3c2kE34f"
      },
      "outputs": [],
      "source": [
        "# Filtring all mins per call value and classifie to 4 categories\n",
        "df.loc[df['mins_per_call'] >= 2.195963, 'freq_min_per_call'] = 'super_high_calls'\n",
        "df.loc[df['mins_per_call'] < 2.195963, 'freq_min_per_call'] = 'high_calls'\n",
        "df.loc[df['mins_per_call'] < 1.939936, 'freq_min_per_call'] = 'med_calls'\n",
        "df.loc[df['mins_per_call'] < 1.705187, 'freq_min_per_call'] = 'low_calls'"
      ]
    },
    {
      "cell_type": "code",
      "execution_count": 316,
      "metadata": {
        "id": "qTey_3fxE34f",
        "colab": {
          "base_uri": "https://localhost:8080/"
        },
        "outputId": "f4c336ff-d816-4547-946e-4038a4913d4d"
      },
      "outputs": [
        {
          "output_type": "stream",
          "name": "stdout",
          "text": [
            "<class 'pandas.core.frame.DataFrame'>\n",
            "RangeIndex: 3333 entries, 0 to 3332\n",
            "Data columns (total 41 columns):\n",
            " #   Column                 Non-Null Count  Dtype  \n",
            "---  ------                 --------------  -----  \n",
            " 0   State                  3333 non-null   object \n",
            " 1   Account Length         3333 non-null   int64  \n",
            " 2   Area Code              3333 non-null   int64  \n",
            " 3   Phone                  3333 non-null   object \n",
            " 4   Intl Plan              3333 non-null   object \n",
            " 5   VMail Plan             3333 non-null   object \n",
            " 6   VMail Message          3333 non-null   int64  \n",
            " 7   Day Mins               3333 non-null   float64\n",
            " 8   Day Calls              3333 non-null   int64  \n",
            " 9   Day Charge             3333 non-null   float64\n",
            " 10  Eve Mins               3333 non-null   float64\n",
            " 11  Eve Calls              3333 non-null   int64  \n",
            " 12  Eve Charge             3333 non-null   float64\n",
            " 13  Night Mins             3333 non-null   float64\n",
            " 14  Night Calls            3333 non-null   int64  \n",
            " 15  Night Charge           3333 non-null   float64\n",
            " 16  Intl Mins              3333 non-null   float64\n",
            " 17  Intl Calls             3333 non-null   int64  \n",
            " 18  Intl Charge            3333 non-null   float64\n",
            " 19  CustServ Calls         3333 non-null   int64  \n",
            " 20  Churn                  3333 non-null   object \n",
            " 21  is_churn               3333 non-null   int64  \n",
            " 22  Total Calls            3333 non-null   int64  \n",
            " 23  percent_day_calls      3333 non-null   float64\n",
            " 24  percent_eve_calls      3333 non-null   float64\n",
            " 25  Day_unit_cost          3331 non-null   float64\n",
            " 26  Eve_unit_cost          3332 non-null   float64\n",
            " 27  Night_unit_cost        3333 non-null   float64\n",
            " 28  Intl_unit_cost         3315 non-null   float64\n",
            " 29  total_charge           3333 non-null   float64\n",
            " 30  calls_nb               3333 non-null   float64\n",
            " 31  service_calls_nb       3333 non-null   float64\n",
            " 32  both_plans             3333 non-null   object \n",
            " 33  charge_per_month       3333 non-null   float64\n",
            " 34  log_charger_per_month  3333 non-null   float64\n",
            " 35  total_calls            3333 non-null   int64  \n",
            " 36  total_mins             3333 non-null   float64\n",
            " 37  mins_per_call          3333 non-null   float64\n",
            " 38  log_calls_nb           3333 non-null   float64\n",
            " 39  freq_calls             3333 non-null   object \n",
            " 40  freq_min_per_call      3333 non-null   object \n",
            "dtypes: float64(22), int64(11), object(8)\n",
            "memory usage: 1.0+ MB\n"
          ]
        }
      ],
      "source": [
        "#Show Data Info\n",
        "df.info()"
      ]
    },
    {
      "cell_type": "code",
      "execution_count": 317,
      "metadata": {
        "id": "q8T1kPRME34f",
        "colab": {
          "base_uri": "https://localhost:8080/",
          "height": 378
        },
        "outputId": "93907ec9-4738-4423-da37-df13e0ab2285"
      },
      "outputs": [
        {
          "output_type": "execute_result",
          "data": {
            "text/plain": [
              "<matplotlib.axes._subplots.AxesSubplot at 0x7f65ea75dd90>"
            ]
          },
          "metadata": {},
          "execution_count": 317
        },
        {
          "output_type": "display_data",
          "data": {
            "image/png": "[encoded data removed]",
            "text/plain": [
              "<Figure size 576x396 with 1 Axes>"
            ]
          },
          "metadata": {}
        }
      ],
      "source": [
        "#Show KDEPlot of Account Length\n",
        "sns.kdeplot(x='Account Length', hue='is_churn', data=df)"
      ]
    },
    {
      "cell_type": "code",
      "execution_count": 318,
      "metadata": {
        "id": "4gIrHjfZE34f",
        "colab": {
          "base_uri": "https://localhost:8080/"
        },
        "outputId": "89b42991-c33c-4622-cb62-f641ddf4c7a8"
      },
      "outputs": [
        {
          "output_type": "execute_result",
          "data": {
            "text/plain": [
              "count    3333.000000\n",
              "mean      101.064806\n",
              "std        39.822106\n",
              "min         1.000000\n",
              "25%        74.000000\n",
              "50%       101.000000\n",
              "75%       127.000000\n",
              "max       243.000000\n",
              "Name: Account Length, dtype: float64"
            ]
          },
          "metadata": {},
          "execution_count": 318
        }
      ],
      "source": [
        "#describe Account Length column\n",
        "df['Account Length'].describe()"
      ]
    },
    {
      "cell_type": "code",
      "execution_count": 319,
      "metadata": {
        "id": "EJvI-eTkE34f",
        "colab": {
          "base_uri": "https://localhost:8080/"
        },
        "outputId": "50dbcfd2-1a5d-4257-e551-3ef89d27312d"
      },
      "outputs": [
        {
          "output_type": "execute_result",
          "data": {
            "text/plain": [
              "MinMaxScaler()"
            ]
          },
          "metadata": {},
          "execution_count": 319
        }
      ],
      "source": [
        "#Import required tools from sklearn libraries\n",
        "from sklearn.preprocessing import MinMaxScaler\n",
        "#Transform features by scaling each feature to a given range\n",
        "scaler = MinMaxScaler()\n",
        "scaler.fit(df[['Account Length', 'mins_per_call']])"
      ]
    },
    {
      "cell_type": "code",
      "execution_count": 320,
      "metadata": {
        "id": "HW4XIU0GE34f",
        "colab": {
          "base_uri": "https://localhost:8080/"
        },
        "outputId": "f695e5cd-218f-448d-ff6e-1aad05cec21f"
      },
      "outputs": [
        {
          "output_type": "execute_result",
          "data": {
            "text/plain": [
              "array([[0.52479339, 0.55742595],\n",
              "       [0.43801653, 0.38545564],\n",
              "       [0.56198347, 0.29187159],\n",
              "       ...,\n",
              "       [0.11157025, 0.62569822],\n",
              "       [0.75619835, 0.26367204],\n",
              "       [0.30165289, 0.68891349]])"
            ]
          },
          "metadata": {},
          "execution_count": 320
        }
      ],
      "source": [
        "#\tFit to data, then transform it.\n",
        "scaler.transform(df[['Account Length', 'mins_per_call']])"
      ]
    },
    {
      "cell_type": "code",
      "execution_count": 321,
      "metadata": {
        "id": "ll7l6eTqE34g"
      },
      "outputs": [],
      "source": [
        "#We subtract the minimum value from each entry and then divide the result by the range. Where range is the difference between the maximum value and the minimum value \n",
        "df['minmax_Account Length'] = (df['Account Length'] - df['Account Length'].min())\\\n",
        "                               /(df['Account Length'].max() - df['Account Length'].min())"
      ]
    },
    {
      "cell_type": "code",
      "execution_count": 322,
      "metadata": {
        "id": "Te0T4_g9E34g",
        "colab": {
          "base_uri": "https://localhost:8080/"
        },
        "outputId": "244bf0bd-2804-41ad-85e9-4644eed67e9b"
      },
      "outputs": [
        {
          "output_type": "execute_result",
          "data": {
            "text/plain": [
              "0       0.524793\n",
              "1       0.438017\n",
              "2       0.561983\n",
              "3       0.342975\n",
              "4       0.305785\n",
              "          ...   \n",
              "3328    0.789256\n",
              "3329    0.276860\n",
              "3330    0.111570\n",
              "3331    0.756198\n",
              "3332    0.301653\n",
              "Name: minmax_Account Length, Length: 3333, dtype: float64"
            ]
          },
          "metadata": {},
          "execution_count": 322
        }
      ],
      "source": [
        "#show minmax_Account Length Data\n",
        "df['minmax_Account Length']"
      ]
    },
    {
      "cell_type": "code",
      "execution_count": 323,
      "metadata": {
        "id": "spb9VySmE34g",
        "colab": {
          "base_uri": "https://localhost:8080/"
        },
        "outputId": "795be2f1-d772-406e-f803-7c2ce895bf22"
      },
      "outputs": [
        {
          "output_type": "execute_result",
          "data": {
            "text/plain": [
              "Index(['State', 'Account Length', 'Area Code', 'Phone', 'Intl Plan',\n",
              "       'VMail Plan', 'VMail Message', 'Day Mins', 'Day Calls', 'Day Charge',\n",
              "       'Eve Mins', 'Eve Calls', 'Eve Charge', 'Night Mins', 'Night Calls',\n",
              "       'Night Charge', 'Intl Mins', 'Intl Calls', 'Intl Charge',\n",
              "       'CustServ Calls', 'Churn', 'is_churn', 'Total Calls',\n",
              "       'percent_day_calls', 'percent_eve_calls', 'Day_unit_cost',\n",
              "       'Eve_unit_cost', 'Night_unit_cost', 'Intl_unit_cost', 'total_charge',\n",
              "       'calls_nb', 'service_calls_nb', 'both_plans', 'charge_per_month',\n",
              "       'log_charger_per_month', 'total_calls', 'total_mins', 'mins_per_call',\n",
              "       'log_calls_nb', 'freq_calls', 'freq_min_per_call',\n",
              "       'minmax_Account Length'],\n",
              "      dtype='object')"
            ]
          },
          "metadata": {},
          "execution_count": 323
        }
      ],
      "source": [
        "#Show all data columns\n",
        "df.columns"
      ]
    },
    {
      "cell_type": "code",
      "execution_count": 324,
      "metadata": {
        "id": "ezr_84NNE34g"
      },
      "outputs": [],
      "source": [
        "#select columns that we will use to predict customer churn \n",
        "predictors = ['Account Length', 'Intl Plan', 'VMail Plan', 'VMail Message', 'percent_day_calls', \n",
        "              'percent_eve_calls', 'service_calls_nb', 'both_plans', 'log_charger_per_month',\n",
        "              'mins_per_call', 'log_calls_nb', 'freq_calls', 'freq_min_per_call']"
      ]
    },
    {
      "cell_type": "code",
      "execution_count": 325,
      "metadata": {
        "id": "tPJYkKdrE34g"
      },
      "outputs": [],
      "source": [
        "#Convert categorical variable into dummy/indicator variables.\n",
        "X = pd.get_dummies(df[predictors])"
      ]
    },
    {
      "cell_type": "code",
      "execution_count": 326,
      "metadata": {
        "id": "UeOnC8sNE34g",
        "colab": {
          "base_uri": "https://localhost:8080/"
        },
        "outputId": "0b1305f0-31a9-474e-ed1f-9c9d2bae0155"
      },
      "outputs": [
        {
          "output_type": "execute_result",
          "data": {
            "text/plain": [
              "MinMaxScaler()"
            ]
          },
          "metadata": {},
          "execution_count": 326
        }
      ],
      "source": [
        "#Transform features by scaling each feature to a given range.\n",
        "scaler = MinMaxScaler()\n",
        "#Standardize features by removing the mean and scaling to unit variance.\n",
        "scaler.fit(X)"
      ]
    },
    {
      "cell_type": "code",
      "execution_count": 327,
      "metadata": {
        "id": "9RxWEVEdE34g"
      },
      "outputs": [],
      "source": [
        "#Transform data from scaler and store in X_minmax \n",
        "X_minmax = scaler.transform(X)"
      ]
    },
    {
      "cell_type": "code",
      "execution_count": 328,
      "metadata": {
        "id": "uqdTzEeNE34g",
        "colab": {
          "base_uri": "https://localhost:8080/"
        },
        "outputId": "5161513a-7aca-43d0-8c64-a90d643f8fe8"
      },
      "outputs": [
        {
          "output_type": "stream",
          "name": "stdout",
          "text": [
            "1 => 31.7%\n",
            "2 => 49.8%\n",
            "3 => 60.6%\n",
            "4 => 70.7%\n",
            "5 => 80.5%\n",
            "6 => 90.1%\n",
            "7 => 96.0%\n",
            "8 => 98.1%\n",
            "9 => 98.6%\n",
            "10 => 99.1%\n",
            "11 => 99.4%\n",
            "12 => 99.6%\n",
            "13 => 99.8%\n",
            "14 => 99.9%\n",
            "15 => 100.0%\n",
            "16 => 100.0%\n",
            "17 => 100.0%\n",
            "18 => 100.0%\n",
            "19 => 100.0%\n",
            "20 => 100.0%\n",
            "21 => 100.0%\n",
            "22 => 100.0%\n",
            "23 => 100.0%\n"
          ]
        }
      ],
      "source": [
        "#Import required tools from sklearn libraries\n",
        "from sklearn.decomposition import PCA\n",
        "#show numbers of variables division of k and choose the pca \n",
        "for k in range(1, 24):\n",
        "    pca = PCA(n_components=k)\n",
        "    pca.fit(X_minmax)\n",
        "    ev = pca.explained_variance_ratio_.sum()\n",
        "    print('{0} => {1:.1%}'.format(k, ev))"
      ]
    },
    {
      "cell_type": "code",
      "execution_count": 329,
      "metadata": {
        "id": "ANUHNKLfE34h",
        "colab": {
          "base_uri": "https://localhost:8080/"
        },
        "outputId": "37556899-00aa-4881-f67a-9228e4fa248f"
      },
      "outputs": [
        {
          "output_type": "execute_result",
          "data": {
            "text/plain": [
              "PCA(n_components=7)"
            ]
          },
          "metadata": {},
          "execution_count": 329
        }
      ],
      "source": [
        "#We choose 7 as number of division\n",
        "pca = PCA(n_components=7)\n",
        "pca.fit(X_minmax)"
      ]
    },
    {
      "cell_type": "code",
      "execution_count": 330,
      "metadata": {
        "id": "GVJdiaxZE34h"
      },
      "outputs": [],
      "source": [
        "#Transform X_minmax Apply dimensionality reduction to X.\n",
        "X_sp = pca.transform(X_minmax)"
      ]
    },
    {
      "cell_type": "code",
      "execution_count": 331,
      "metadata": {
        "id": "oOFaHllyE34h",
        "colab": {
          "base_uri": "https://localhost:8080/"
        },
        "outputId": "0bad52a4-5d97-4210-b8ca-e9115c217c48"
      },
      "outputs": [
        {
          "output_type": "execute_result",
          "data": {
            "text/plain": [
              "KMeans(n_clusters=3)"
            ]
          },
          "metadata": {},
          "execution_count": 331
        }
      ],
      "source": [
        "from sklearn.cluster import KMeans\n",
        "#The number of clusters to form as well as the number of centroids to generate\n",
        "model = KMeans(n_clusters=3)\n",
        "model.fit(X_sp)"
      ]
    },
    {
      "cell_type": "code",
      "execution_count": 332,
      "metadata": {
        "id": "PPPbt_XxE34h",
        "colab": {
          "base_uri": "https://localhost:8080/"
        },
        "outputId": "8a739043-d7c1-4b72-87e4-becaeeac262e"
      },
      "outputs": [
        {
          "output_type": "execute_result",
          "data": {
            "text/plain": [
              "array([2, 2, 0, ..., 1, 0, 2], dtype=int32)"
            ]
          },
          "metadata": {},
          "execution_count": 332
        }
      ],
      "source": [
        "#Show all labels for each point\n",
        "model.labels_"
      ]
    },
    {
      "cell_type": "code",
      "execution_count": 333,
      "metadata": {
        "id": "l3FpG6atE34h"
      },
      "outputs": [],
      "source": [
        "#Store all labels for each point into cluster \n",
        "df['cluster'] = model.labels_"
      ]
    },
    {
      "cell_type": "code",
      "execution_count": 334,
      "metadata": {
        "id": "7gCTmpQfE34h",
        "colab": {
          "base_uri": "https://localhost:8080/"
        },
        "outputId": "f57ec1df-4cd5-40f9-e67c-af5734f66876"
      },
      "outputs": [
        {
          "output_type": "execute_result",
          "data": {
            "text/plain": [
              "Index(['State', 'Account Length', 'Area Code', 'Phone', 'Intl Plan',\n",
              "       'VMail Plan', 'VMail Message', 'Day Mins', 'Day Calls', 'Day Charge',\n",
              "       'Eve Mins', 'Eve Calls', 'Eve Charge', 'Night Mins', 'Night Calls',\n",
              "       'Night Charge', 'Intl Mins', 'Intl Calls', 'Intl Charge',\n",
              "       'CustServ Calls', 'Churn', 'is_churn', 'Total Calls',\n",
              "       'percent_day_calls', 'percent_eve_calls', 'Day_unit_cost',\n",
              "       'Eve_unit_cost', 'Night_unit_cost', 'Intl_unit_cost', 'total_charge',\n",
              "       'calls_nb', 'service_calls_nb', 'both_plans', 'charge_per_month',\n",
              "       'log_charger_per_month', 'total_calls', 'total_mins', 'mins_per_call',\n",
              "       'log_calls_nb', 'freq_calls', 'freq_min_per_call',\n",
              "       'minmax_Account Length', 'cluster'],\n",
              "      dtype='object')"
            ]
          },
          "metadata": {},
          "execution_count": 334
        }
      ],
      "source": [
        "#Verify if Cluster existe or not\n",
        "df.columns"
      ]
    },
    {
      "cell_type": "code",
      "execution_count": 335,
      "metadata": {
        "id": "zQAAmUrkE34h",
        "colab": {
          "base_uri": "https://localhost:8080/",
          "height": 206
        },
        "outputId": "fe065c49-9973-4221-aa25-fb34441d3b83"
      },
      "outputs": [
        {
          "output_type": "execute_result",
          "data": {
            "text/html": [
              "\n",
              "  <div id=\"df-1bd59af6-d01f-450c-b3c9-2ffe85ae969b\">\n",
              "    <div class=\"colab-df-container\">\n",
              "      <div>\n",
              "<style scoped>\n",
              "    .dataframe tbody tr th:only-of-type {\n",
              "        vertical-align: middle;\n",
              "    }\n",
              "\n",
              "    .dataframe tbody tr th {\n",
              "        vertical-align: top;\n",
              "    }\n",
              "\n",
              "    .dataframe thead tr th {\n",
              "        text-align: left;\n",
              "    }\n",
              "\n",
              "    .dataframe thead tr:last-of-type th {\n",
              "        text-align: right;\n",
              "    }\n",
              "</style>\n",
              "<table border=\"1\" class=\"dataframe\">\n",
              "  <thead>\n",
              "    <tr>\n",
              "      <th></th>\n",
              "      <th colspan=\"3\" halign=\"left\">Account Length</th>\n",
              "    </tr>\n",
              "    <tr>\n",
              "      <th></th>\n",
              "      <th>min</th>\n",
              "      <th>median</th>\n",
              "      <th>max</th>\n",
              "    </tr>\n",
              "    <tr>\n",
              "      <th>cluster</th>\n",
              "      <th></th>\n",
              "      <th></th>\n",
              "      <th></th>\n",
              "    </tr>\n",
              "  </thead>\n",
              "  <tbody>\n",
              "    <tr>\n",
              "      <th>0</th>\n",
              "      <td>73</td>\n",
              "      <td>128</td>\n",
              "      <td>243</td>\n",
              "    </tr>\n",
              "    <tr>\n",
              "      <th>1</th>\n",
              "      <td>1</td>\n",
              "      <td>74</td>\n",
              "      <td>127</td>\n",
              "    </tr>\n",
              "    <tr>\n",
              "      <th>2</th>\n",
              "      <td>1</td>\n",
              "      <td>101</td>\n",
              "      <td>221</td>\n",
              "    </tr>\n",
              "  </tbody>\n",
              "</table>\n",
              "</div>\n",
              "      <button class=\"colab-df-convert\" onclick=\"convertToInteractive('df-1bd59af6-d01f-450c-b3c9-2ffe85ae969b')\"\n",
              "              title=\"Convert this dataframe to an interactive table.\"\n",
              "              style=\"display:none;\">\n",
              "        \n",
              "  <svg xmlns=\"http://www.w3.org/2000/svg\" height=\"24px\"viewBox=\"0 0 24 24\"\n",
              "       width=\"24px\">\n",
              "    <path d=\"M0 0h24v24H0V0z\" fill=\"none\"/>\n",
              "    <path d=\"M18.56 5.44l.94 2.06.94-2.06 2.06-.94-2.06-.94-.94-2.06-.94 2.06-2.06.94zm-11 1L8.5 8.5l.94-2.06 2.06-.94-2.06-.94L8.5 2.5l-.94 2.06-2.06.94zm10 10l.94 2.06.94-2.06 2.06-.94-2.06-.94-.94-2.06-.94 2.06-2.06.94z\"/><path d=\"M17.41 7.96l-1.37-1.37c-.4-.4-.92-.59-1.43-.59-.52 0-1.04.2-1.43.59L10.3 9.45l-7.72 7.72c-.78.78-.78 2.05 0 2.83L4 21.41c.39.39.9.59 1.41.59.51 0 1.02-.2 1.41-.59l7.78-7.78 2.81-2.81c.8-.78.8-2.07 0-2.86zM5.41 20L4 18.59l7.72-7.72 1.47 1.35L5.41 20z\"/>\n",
              "  </svg>\n",
              "      </button>\n",
              "      \n",
              "  <style>\n",
              "    .colab-df-container {\n",
              "      display:flex;\n",
              "      flex-wrap:wrap;\n",
              "      gap: 12px;\n",
              "    }\n",
              "\n",
              "    .colab-df-convert {\n",
              "      background-color: #E8F0FE;\n",
              "      border: none;\n",
              "      border-radius: 50%;\n",
              "      cursor: pointer;\n",
              "      display: none;\n",
              "      fill: #1967D2;\n",
              "      height: 32px;\n",
              "      padding: 0 0 0 0;\n",
              "      width: 32px;\n",
              "    }\n",
              "\n",
              "    .colab-df-convert:hover {\n",
              "      background-color: #E2EBFA;\n",
              "      box-shadow: 0px 1px 2px rgba(60, 64, 67, 0.3), 0px 1px 3px 1px rgba(60, 64, 67, 0.15);\n",
              "      fill: #174EA6;\n",
              "    }\n",
              "\n",
              "    [theme=dark] .colab-df-convert {\n",
              "      background-color: #3B4455;\n",
              "      fill: #D2E3FC;\n",
              "    }\n",
              "\n",
              "    [theme=dark] .colab-df-convert:hover {\n",
              "      background-color: #434B5C;\n",
              "      box-shadow: 0px 1px 3px 1px rgba(0, 0, 0, 0.15);\n",
              "      filter: drop-shadow(0px 1px 2px rgba(0, 0, 0, 0.3));\n",
              "      fill: #FFFFFF;\n",
              "    }\n",
              "  </style>\n",
              "\n",
              "      <script>\n",
              "        const buttonEl =\n",
              "          document.querySelector('#df-1bd59af6-d01f-450c-b3c9-2ffe85ae969b button.colab-df-convert');\n",
              "        buttonEl.style.display =\n",
              "          google.colab.kernel.accessAllowed ? 'block' : 'none';\n",
              "\n",
              "        async function convertToInteractive(key) {\n",
              "          const element = document.querySelector('#df-1bd59af6-d01f-450c-b3c9-2ffe85ae969b');\n",
              "          const dataTable =\n",
              "            await google.colab.kernel.invokeFunction('convertToInteractive',\n",
              "                                                     [key], {});\n",
              "          if (!dataTable) return;\n",
              "\n",
              "          const docLinkHtml = 'Like what you see? Visit the ' +\n",
              "            '<a target=\"_blank\" href=https://colab.research.google.com/notebooks/data_table.ipynb>data table notebook</a>'\n",
              "            + ' to learn more about interactive tables.';\n",
              "          element.innerHTML = '';\n",
              "          dataTable['output_type'] = 'display_data';\n",
              "          await google.colab.output.renderOutput(dataTable, element);\n",
              "          const docLink = document.createElement('div');\n",
              "          docLink.innerHTML = docLinkHtml;\n",
              "          element.appendChild(docLink);\n",
              "        }\n",
              "      </script>\n",
              "    </div>\n",
              "  </div>\n",
              "  "
            ],
            "text/plain": [
              "        Account Length            \n",
              "                   min median  max\n",
              "cluster                           \n",
              "0                   73    128  243\n",
              "1                    1     74  127\n",
              "2                    1    101  221"
            ]
          },
          "metadata": {},
          "execution_count": 335
        }
      ],
      "source": [
        "#Grouping freq calls columns to 3 groups\n",
        "df.groupby('cluster').agg({'Account Length':['min', 'median', 'max']})"
      ]
    },
    {
      "cell_type": "code",
      "execution_count": 336,
      "metadata": {
        "id": "6iq8DlviE34h",
        "colab": {
          "base_uri": "https://localhost:8080/"
        },
        "outputId": "3c95244a-30da-4341-dd2b-ae5f11ed2ef3"
      },
      "outputs": [
        {
          "output_type": "stream",
          "name": "stdout",
          "text": [
            "1 => 8228.113153193566\n",
            "2 => 5577.243805371095\n",
            "3 => 4511.467572779867\n",
            "4 => 3742.277333119019\n",
            "5 => 3353.439103583206\n",
            "6 => 2978.2977808210335\n",
            "7 => 2679.739637212265\n",
            "8 => 2397.981315907899\n",
            "9 => 2167.857218790713\n",
            "10 => 1933.6542874112683\n",
            "11 => 1701.263805965234\n",
            "12 => 1538.3544332042752\n",
            "13 => 1345.639976755691\n",
            "14 => 1226.121064617064\n",
            "15 => 1106.5347602125237\n",
            "16 => 984.2421454267771\n",
            "17 => 894.1748794492812\n",
            "18 => 808.8639666625586\n",
            "19 => 715.0402690927574\n",
            "20 => 638.5061656695186\n",
            "21 => 574.5122514529048\n",
            "22 => 534.5348177244362\n",
            "23 => 482.08964915292546\n",
            "24 => 421.5319270949167\n",
            "25 => 363.5831276296244\n",
            "26 => 321.76088832326286\n",
            "27 => 287.8800213351708\n",
            "28 => 248.28357557826382\n",
            "29 => 214.08472039332025\n"
          ]
        }
      ],
      "source": [
        "em = {}\n",
        "for k in range(1, 30):\n",
        "  #show numbers of variables division of k and choose the KMeans \n",
        "\n",
        "    model = KMeans(n_clusters=k)\n",
        "    model.fit(X_sp)\n",
        "    inertia = model.inertia_\n",
        "    print('{0} => {1}'.format(k, inertia))\n",
        "    em[str(k)] = {'n_clusters' : k, 'inertia' : inertia}"
      ]
    },
    {
      "cell_type": "code",
      "execution_count": 337,
      "metadata": {
        "id": "8k2VSCX_E34i"
      },
      "outputs": [],
      "source": [
        "#Construct DataFrame from dict \n",
        "d = pd.DataFrame.from_dict(em, orient='index')"
      ]
    },
    {
      "cell_type": "code",
      "execution_count": 338,
      "metadata": {
        "id": "bkeKrXFsE34i",
        "colab": {
          "base_uri": "https://localhost:8080/",
          "height": 378
        },
        "outputId": "996e504f-44b4-497f-89ae-3fbcf4a8e93b"
      },
      "outputs": [
        {
          "output_type": "execute_result",
          "data": {
            "text/plain": [
              "<matplotlib.axes._subplots.AxesSubplot at 0x7f65ea688510>"
            ]
          },
          "metadata": {},
          "execution_count": 338
        },
        {
          "output_type": "display_data",
          "data": {
            "image/png": "[encoded data removed]",
            "text/plain": [
              "<Figure size 576x396 with 1 Axes>"
            ]
          },
          "metadata": {}
        }
      ],
      "source": [
        "#Show Lineplot of n_clusters and inertia \n",
        "sns.lineplot(x='n_clusters', y='inertia', data=d)"
      ]
    },
    {
      "cell_type": "code",
      "execution_count": 339,
      "metadata": {
        "id": "tc4JJLQUE34i",
        "colab": {
          "base_uri": "https://localhost:8080/"
        },
        "outputId": "a186e14c-26b0-4028-fc8b-c109a431d8de"
      },
      "outputs": [
        {
          "output_type": "stream",
          "name": "stdout",
          "text": [
            "Requirement already satisfied: yellowbrick in /usr/local/lib/python3.7/dist-packages (1.3.post1)\n",
            "Requirement already satisfied: cycler>=0.10.0 in /usr/local/lib/python3.7/dist-packages (from yellowbrick) (0.11.0)\n",
            "Requirement already satisfied: numpy<1.20,>=1.16.0 in /usr/local/lib/python3.7/dist-packages (from yellowbrick) (1.19.5)\n",
            "Requirement already satisfied: matplotlib!=3.0.0,>=2.0.2 in /usr/local/lib/python3.7/dist-packages (from yellowbrick) (3.2.2)\n",
            "Requirement already satisfied: scikit-learn>=0.20 in /usr/local/lib/python3.7/dist-packages (from yellowbrick) (1.0.2)\n",
            "Requirement already satisfied: scipy>=1.0.0 in /usr/local/lib/python3.7/dist-packages (from yellowbrick) (1.4.1)\n",
            "Requirement already satisfied: python-dateutil>=2.1 in /usr/local/lib/python3.7/dist-packages (from matplotlib!=3.0.0,>=2.0.2->yellowbrick) (2.8.2)\n",
            "Requirement already satisfied: kiwisolver>=1.0.1 in /usr/local/lib/python3.7/dist-packages (from matplotlib!=3.0.0,>=2.0.2->yellowbrick) (1.3.2)\n",
            "Requirement already satisfied: pyparsing!=2.0.4,!=2.1.2,!=2.1.6,>=2.0.1 in /usr/local/lib/python3.7/dist-packages (from matplotlib!=3.0.0,>=2.0.2->yellowbrick) (3.0.7)\n",
            "Requirement already satisfied: six>=1.5 in /usr/local/lib/python3.7/dist-packages (from python-dateutil>=2.1->matplotlib!=3.0.0,>=2.0.2->yellowbrick) (1.15.0)\n",
            "Requirement already satisfied: joblib>=0.11 in /usr/local/lib/python3.7/dist-packages (from scikit-learn>=0.20->yellowbrick) (1.1.0)\n",
            "Requirement already satisfied: threadpoolctl>=2.0.0 in /usr/local/lib/python3.7/dist-packages (from scikit-learn>=0.20->yellowbrick) (3.0.0)\n"
          ]
        }
      ],
      "source": [
        "#install yellowbrick\n",
        "%pip install yellowbrick"
      ]
    },
    {
      "cell_type": "code",
      "execution_count": 340,
      "metadata": {
        "id": "cMa8Yq5oE34i"
      },
      "outputs": [],
      "source": [
        "#Import required libraries\n",
        "import yellowbrick"
      ]
    },
    {
      "cell_type": "code",
      "execution_count": 341,
      "metadata": {
        "id": "TD47pCvCE34i",
        "colab": {
          "base_uri": "https://localhost:8080/",
          "height": 394
        },
        "outputId": "d829f227-ec9e-403e-83b6-83d785d0cace"
      },
      "outputs": [
        {
          "output_type": "display_data",
          "data": {
            "image/png": "[encoded data removed]",
            "text/plain": [
              "<Figure size 576x396 with 1 Axes>"
            ]
          },
          "metadata": {}
        },
        {
          "output_type": "execute_result",
          "data": {
            "text/plain": [
              "<matplotlib.axes._subplots.AxesSubplot at 0x7f65ea66d210>"
            ]
          },
          "metadata": {},
          "execution_count": 341
        }
      ],
      "source": [
        "#Import required tools from sklearn libraries\n",
        "from sklearn.cluster import KMeans\n",
        "#Import required tools from yellowbrick libraries\n",
        "from yellowbrick.cluster import KElbowVisualizer\n",
        "# Instantiate the clustering model and visualizer\n",
        "model = KMeans()\n",
        "visualizer = KElbowVisualizer(\n",
        "    model, k=(2,24), metric='silhouette', timings=False\n",
        ")\n",
        "\n",
        "visualizer.fit(X_sp)        # Fit the data to the visualizer\n",
        "visualizer.show()        # Finalize and render the figure"
      ]
    },
    {
      "cell_type": "code",
      "execution_count": 342,
      "metadata": {
        "id": "0EFXm48EE34i",
        "colab": {
          "base_uri": "https://localhost:8080/",
          "height": 394
        },
        "outputId": "fcf1d0f3-289e-418b-c4d9-839eb8a2d3f2"
      },
      "outputs": [
        {
          "output_type": "display_data",
          "data": {
            "image/png": "[encoded data removed]",
            "text/plain": [
              "<Figure size 576x396 with 1 Axes>"
            ]
          },
          "metadata": {}
        },
        {
          "output_type": "execute_result",
          "data": {
            "text/plain": [
              "<matplotlib.axes._subplots.AxesSubplot at 0x7f65ea590b10>"
            ]
          },
          "metadata": {},
          "execution_count": 342
        }
      ],
      "source": [
        "from sklearn.cluster import KMeans #Import required tools from sklearn libraries\n",
        "from yellowbrick.cluster import SilhouetteVisualizer #Import required tools from yellowbrick libraries\n",
        "# Instantiate the clustering model and visualizer\n",
        "model = KMeans(3, random_state=42)\n",
        "visualizer = SilhouetteVisualizer(model, colors='yellowbrick')\n",
        "\n",
        "visualizer.fit(X_sp)        # Fit the data to the visualizer\n",
        "visualizer.show()        # Finalize and render the figure"
      ]
    },
    {
      "cell_type": "code",
      "execution_count": 343,
      "metadata": {
        "id": "XZs2iadnE34i"
      },
      "outputs": [],
      "source": [
        "#Creat new variable and store multiplication of n_clusters , inertia\n",
        "d['score'] = d['n_clusters'] * d['inertia']"
      ]
    },
    {
      "cell_type": "code",
      "execution_count": 344,
      "metadata": {
        "id": "AJfugu_IE34j",
        "colab": {
          "base_uri": "https://localhost:8080/",
          "height": 378
        },
        "outputId": "fd16e386-83a9-447d-add4-54142c24d353"
      },
      "outputs": [
        {
          "output_type": "execute_result",
          "data": {
            "text/plain": [
              "<matplotlib.axes._subplots.AxesSubplot at 0x7f65ea501a90>"
            ]
          },
          "metadata": {},
          "execution_count": 344
        },
        {
          "output_type": "display_data",
          "data": {
            "image/png": "[encoded data removed]",
            "text/plain": [
              "<Figure size 576x396 with 1 Axes>"
            ]
          },
          "metadata": {}
        }
      ],
      "source": [
        "#Show Barplot of n_clusters and score\n",
        "sns.barplot(x='n_clusters', y='score', data=d)"
      ]
    },
    {
      "cell_type": "code",
      "execution_count": 345,
      "metadata": {
        "id": "uhrJabslE34j"
      },
      "outputs": [],
      "source": [
        "model = KMeans(n_clusters=3) #The number of clusters to form as well as the number of centroids to generate\n",
        "model.fit(X_sp)\n",
        "df['cluster'] = model.labels_ #Store all labels for each point into cluster "
      ]
    }
  ],
  "metadata": {
    "kernelspec": {
      "display_name": "vpenv",
      "language": "python",
      "name": "vpenv"
    },
    "language_info": {
      "codemirror_mode": {
        "name": "ipython",
        "version": 3
      },
      "file_extension": ".py",
      "mimetype": "text/x-python",
      "name": "python",
      "nbconvert_exporter": "python",
      "pygments_lexer": "ipython3",
      "version": "3.8.3"
    },
    "colab": {
      "name": "Churn_ODC Doc.ipynb",
      "provenance": [],
      "collapsed_sections": []
    }
  },
  "nbformat": 4,
  "nbformat_minor": 0
}